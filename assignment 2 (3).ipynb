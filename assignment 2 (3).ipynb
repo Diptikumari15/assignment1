{
 "cells": [
  {
   "cell_type": "code",
   "execution_count": 1,
   "id": "814dbbb6-c168-4a7c-92ee-2274348ab2d1",
   "metadata": {},
   "outputs": [],
   "source": [
    "#Q1. How do you comment code in python? what are the different types of comments?"
   ]
  },
  {
   "cell_type": "code",
   "execution_count": 3,
   "id": "e87536bc-94f7-4692-992c-2b0983d0d0d2",
   "metadata": {},
   "outputs": [],
   "source": [
    "#Answer. by using '#' symbol , we can comment code in python. There are basically two types of comments in python\n",
    "#        (a) single line comment\n",
    "#       (b) multi line comments"
   ]
  },
  {
   "cell_type": "code",
   "execution_count": 4,
   "id": "e30468c4-4597-4913-9004-618874a2e958",
   "metadata": {},
   "outputs": [],
   "source": [
    "#Q2. What are variables in python? How do you declare and assign values to variables?"
   ]
  },
  {
   "cell_type": "code",
   "execution_count": 5,
   "id": "f2da1450-3c50-408b-8669-11327cc979e6",
   "metadata": {},
   "outputs": [],
   "source": [
    "#Answer.In Python, Variables are used to store and manage data. You declare a variable by choosing a name and then use use the assignment operator(=) to assign a value to it."
   ]
  },
  {
   "cell_type": "code",
   "execution_count": 6,
   "id": "1ad98d95-e898-4727-8697-76a18868ffd1",
   "metadata": {},
   "outputs": [],
   "source": [
    "#Q3. How do you convert one data type to another in python?"
   ]
  },
  {
   "cell_type": "code",
   "execution_count": 8,
   "id": "8b568e95-9efd-402d-8451-4b3a229d6721",
   "metadata": {},
   "outputs": [],
   "source": [
    "# Answer. By changing their type and this is known as typecasting\n",
    " #      for example:"
   ]
  },
  {
   "cell_type": "code",
   "execution_count": 9,
   "id": "58c24663-b743-4d78-8fd1-3afc5b860c51",
   "metadata": {},
   "outputs": [
    {
     "data": {
      "text/plain": [
       "int"
      ]
     },
     "execution_count": 9,
     "metadata": {},
     "output_type": "execute_result"
    }
   ],
   "source": [
    "a = 12\n",
    "type(a)"
   ]
  },
  {
   "cell_type": "code",
   "execution_count": 10,
   "id": "046b49cb-4d8c-4a61-828e-e21ed46aa4c7",
   "metadata": {},
   "outputs": [
    {
     "data": {
      "text/plain": [
       "'12'"
      ]
     },
     "execution_count": 10,
     "metadata": {},
     "output_type": "execute_result"
    }
   ],
   "source": [
    "str(a)\n"
   ]
  },
  {
   "cell_type": "code",
   "execution_count": 11,
   "id": "5b0b757d-5b73-4a18-a07a-14452ee4e14c",
   "metadata": {},
   "outputs": [],
   "source": [
    "#Q4. How do you write and execute a Python script from the command line?"
   ]
  },
  {
   "cell_type": "code",
   "execution_count": 12,
   "id": "5d8d7c12-56b6-4bb4-b7e2-3bfa7414bf34",
   "metadata": {},
   "outputs": [],
   "source": [
    "#Answer."
   ]
  },
  {
   "cell_type": "code",
   "execution_count": 13,
   "id": "21468b9d-ba40-45a1-ac87-5edd99e6608c",
   "metadata": {},
   "outputs": [],
   "source": [
    "#Q5. Given a list my_list = [1, 2, 3, 4, 5], write the code to slice the list and obtain the sub-list[2,3]."
   ]
  },
  {
   "cell_type": "code",
   "execution_count": 14,
   "id": "4747a1a4-d98e-4a76-93d5-594d4760a6c8",
   "metadata": {},
   "outputs": [],
   "source": [
    "#Answer. "
   ]
  },
  {
   "cell_type": "code",
   "execution_count": 15,
   "id": "a5b67e30-cd47-4922-9e04-30ddf5d03891",
   "metadata": {},
   "outputs": [],
   "source": [
    "my_list=[1,2,3,4,5]"
   ]
  },
  {
   "cell_type": "code",
   "execution_count": 16,
   "id": "73108243-fee9-461f-9b20-5bf98dfd80d2",
   "metadata": {},
   "outputs": [
    {
     "data": {
      "text/plain": [
       "[2, 3]"
      ]
     },
     "execution_count": 16,
     "metadata": {},
     "output_type": "execute_result"
    }
   ],
   "source": [
    "my_list[1:-2]"
   ]
  },
  {
   "cell_type": "code",
   "execution_count": null,
   "id": "7ecbb58f-8144-4a2d-9c21-88374cbbdc51",
   "metadata": {},
   "outputs": [],
   "source": [
    "#Q6. What is a complex number in mathematics, and how is it represented in Python?"
   ]
  },
  {
   "cell_type": "code",
   "execution_count": 19,
   "id": "9d78cd8a-371b-45e4-91ee-423ccad9a137",
   "metadata": {},
   "outputs": [
    {
     "data": {
      "text/plain": [
       "'Answer. In mathematics , a complex number is a combination of real number and an imaginary number. for example 25+7i,\\nthe  notation of complex number in mathematics is i.\\nthe notation of complex number in python is j and the complex number is represented in python as 25+7j.'"
      ]
     },
     "execution_count": 19,
     "metadata": {},
     "output_type": "execute_result"
    }
   ],
   "source": [
    "'''Answer. In mathematics , a complex number is a combination of real number and an imaginary number. for example 25+7i,\n",
    "the  notation of complex number in mathematics is i.\n",
    "the notation of complex number in python is j and the complex number is represented in python as 25+7j.'''"
   ]
  },
  {
   "cell_type": "code",
   "execution_count": 20,
   "id": "1b6c130f-a49d-452a-9166-ca42fc830bc0",
   "metadata": {},
   "outputs": [],
   "source": [
    "#Q7. What is a correct way to declare a variable named ago and assign the value 25 to it?"
   ]
  },
  {
   "cell_type": "code",
   "execution_count": 21,
   "id": "d1e54f9a-4d56-4f61-b07c-8bf0969a8795",
   "metadata": {},
   "outputs": [],
   "source": [
    "#Answer.ago=25"
   ]
  },
  {
   "cell_type": "raw",
   "id": "de03d0e0-bee6-4faa-a1b4-a567ceaf59f6",
   "metadata": {},
   "source": [
    "#Q8. Declare a variable named price and assign the value 9.99 to it. What data type does this variable belong to?"
   ]
  },
  {
   "cell_type": "code",
   "execution_count": 22,
   "id": "7931f438-c2aa-4e5c-9e54-2966d1e6e3b2",
   "metadata": {},
   "outputs": [],
   "source": [
    "#Answer."
   ]
  },
  {
   "cell_type": "code",
   "execution_count": 23,
   "id": "dc24ab1c-d56c-42c8-84f3-54e7511766c9",
   "metadata": {},
   "outputs": [
    {
     "data": {
      "text/plain": [
       "float"
      ]
     },
     "execution_count": 23,
     "metadata": {},
     "output_type": "execute_result"
    }
   ],
   "source": [
    "price = 9.99\n",
    "type(price)"
   ]
  },
  {
   "cell_type": "code",
   "execution_count": 24,
   "id": "779995f3-7999-459a-8588-4a76b35a2347",
   "metadata": {},
   "outputs": [],
   "source": [
    "#Q9. Create a variable named name and assign your full name to it as a string. How would you print the value of this variable?"
   ]
  },
  {
   "cell_type": "code",
   "execution_count": 25,
   "id": "959284c6-8291-4181-b336-587b912cab1d",
   "metadata": {},
   "outputs": [],
   "source": [
    "#Answer."
   ]
  },
  {
   "cell_type": "code",
   "execution_count": 26,
   "id": "7442a001-e06f-4135-929f-86f80d222096",
   "metadata": {},
   "outputs": [
    {
     "name": "stdout",
     "output_type": "stream",
     "text": [
      "Dipti kumari\n"
     ]
    }
   ],
   "source": [
    "name = \"Dipti kumari\"\n",
    "print(name)"
   ]
  },
  {
   "cell_type": "code",
   "execution_count": 27,
   "id": "090355b5-abe9-4e32-be62-25f1a68fda15",
   "metadata": {},
   "outputs": [],
   "source": [
    "#Q10. Given the string \"Hello World\" ,extract the substring \"World\"."
   ]
  },
  {
   "cell_type": "code",
   "execution_count": 28,
   "id": "0b5813ab-4107-403f-87fd-e9c43ae1f158",
   "metadata": {},
   "outputs": [],
   "source": [
    "#Answer. "
   ]
  },
  {
   "cell_type": "code",
   "execution_count": 29,
   "id": "b48ec5f9-8262-4d86-84d4-24a6ada7b278",
   "metadata": {},
   "outputs": [],
   "source": [
    "str1= \"Hello World\""
   ]
  },
  {
   "cell_type": "code",
   "execution_count": 30,
   "id": "7d79621f-8cb9-49b4-8378-dd573b3e8249",
   "metadata": {},
   "outputs": [
    {
     "data": {
      "text/plain": [
       "' World'"
      ]
     },
     "execution_count": 30,
     "metadata": {},
     "output_type": "execute_result"
    }
   ],
   "source": [
    "str1[5:]"
   ]
  },
  {
   "cell_type": "code",
   "execution_count": 31,
   "id": "60788a59-eb84-464b-adc1-7e199d08926c",
   "metadata": {},
   "outputs": [],
   "source": [
    "#Q11. Create a variable named \"is_student\" and assign it a boolean value indicating whether you are currently a student or not. "
   ]
  },
  {
   "cell_type": "code",
   "execution_count": 32,
   "id": "f9ff3030-926e-4fbd-b5dd-7fec79e7ee82",
   "metadata": {},
   "outputs": [],
   "source": [
    "#Answer."
   ]
  },
  {
   "cell_type": "code",
   "execution_count": 33,
   "id": "4e458d07-b56b-459c-90ea-f853c09f1a5a",
   "metadata": {},
   "outputs": [],
   "source": [
    "#is_student=True"
   ]
  },
  {
   "cell_type": "markdown",
   "id": "f38c0cf0-6fe0-4a5b-9b6b-680062d0445b",
   "metadata": {},
   "source": []
  }
 ],
 "metadata": {
  "kernelspec": {
   "display_name": "Python 3 (ipykernel)",
   "language": "python",
   "name": "python3"
  },
  "language_info": {
   "codemirror_mode": {
    "name": "ipython",
    "version": 3
   },
   "file_extension": ".py",
   "mimetype": "text/x-python",
   "name": "python",
   "nbconvert_exporter": "python",
   "pygments_lexer": "ipython3",
   "version": "3.10.8"
  }
 },
 "nbformat": 4,
 "nbformat_minor": 5
}
