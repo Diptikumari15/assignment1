{
 "cells": [
  {
   "cell_type": "raw",
   "id": "0fbf9a4e-d6b1-4be8-85fc-a1dda020c089",
   "metadata": {},
   "source": [
    "Q1. Create a python program to sort the given list of tuples based on integer value using a lambda function.\n",
    "   [('Sachin Tendulkar', 34357), ('Rickey Ponting',27483), (Virat Kohli',24936)]"
   ]
  },
  {
   "cell_type": "code",
   "execution_count": 33,
   "id": "a7fcb802-bdfd-4c5a-8434-533182d5ba6f",
   "metadata": {},
   "outputs": [],
   "source": [
    "l= [(\"Sachin Tendulkar\", 34357), (\"Rickey Ponting\",27483), (\"Virat Kohli\",24936)]"
   ]
  },
  {
   "cell_type": "code",
   "execution_count": 58,
   "id": "7d7fc070-43e2-470c-8f49-7f979d2b80d7",
   "metadata": {},
   "outputs": [],
   "source": [
    "a=lambda x :x[1]"
   ]
  },
  {
   "cell_type": "code",
   "execution_count": 59,
   "id": "42691490-4154-49bc-85e6-9676bd2b3ff4",
   "metadata": {},
   "outputs": [
    {
     "data": {
      "text/plain": [
       "('Rickey Ponting', 27483)"
      ]
     },
     "execution_count": 59,
     "metadata": {},
     "output_type": "execute_result"
    }
   ],
   "source": [
    "a(l)"
   ]
  },
  {
   "cell_type": "raw",
   "id": "a263785c-47d8-4b6b-b655-73b7ab5e2a95",
   "metadata": {},
   "source": [
    "Q2. Write a python program to find the square of all the numbers in the given list of integers using lambda and map functions.\n",
    "    [1,2,3,4,5,6,7,8,9,10]"
   ]
  },
  {
   "cell_type": "code",
   "execution_count": null,
   "id": "36af961f-36e3-4d7c-9de6-7b11f4f7727c",
   "metadata": {},
   "outputs": [],
   "source": [
    "Answer. "
   ]
  },
  {
   "cell_type": "code",
   "execution_count": 60,
   "id": "8fa450f6-bdec-40e2-888d-11d440026967",
   "metadata": {},
   "outputs": [],
   "source": [
    "a=[1,2,3,4,5,6,7,8,9,10]"
   ]
  },
  {
   "cell_type": "code",
   "execution_count": 61,
   "id": "9b5a1b5b-8946-4c88-8c91-95565a348099",
   "metadata": {},
   "outputs": [
    {
     "data": {
      "text/plain": [
       "[1, 4, 9, 16, 25, 36, 49, 64, 81, 100]"
      ]
     },
     "execution_count": 61,
     "metadata": {},
     "output_type": "execute_result"
    }
   ],
   "source": [
    "list(map(lambda x : x**2,a))"
   ]
  },
  {
   "cell_type": "raw",
   "id": "ea164384-b62d-49b0-80e4-6074baf93795",
   "metadata": {},
   "source": [
    "Q3.write a python program to convert the given list of integers into a tuple of a strings. Use map and lambda functions.\n",
    "   [1,2,3,4,5,6,7,8,9,10]"
   ]
  },
  {
   "cell_type": "code",
   "execution_count": 62,
   "id": "70ade7f7-228c-4127-9cd4-d7e022f85f6f",
   "metadata": {},
   "outputs": [],
   "source": [
    "b= [1,2,3,4,5,6,7,8,9,10]"
   ]
  },
  {
   "cell_type": "code",
   "execution_count": 63,
   "id": "2819b119-4feb-43dc-9cfe-e2e57a6a4aeb",
   "metadata": {},
   "outputs": [
    {
     "data": {
      "text/plain": [
       "['1', '2', '3', '4', '5', '6', '7', '8', '9', '10']"
      ]
     },
     "execution_count": 63,
     "metadata": {},
     "output_type": "execute_result"
    }
   ],
   "source": [
    "list(map(lambda x : str(x), b))"
   ]
  },
  {
   "cell_type": "raw",
   "id": "149108ed-0548-4dfe-9447-a310b4cb8773",
   "metadata": {},
   "source": [
    "Q4. write a python program using reduce function to compute the product of a list containing numbers from 1 to 25."
   ]
  },
  {
   "cell_type": "code",
   "execution_count": 64,
   "id": "eff08dad-48eb-4b97-8914-f03097b4a401",
   "metadata": {},
   "outputs": [],
   "source": [
    "c=[1,2,3,4,5,6,7,8,9,10,11,12,13,14,15,16,17,18,19,20,21,22,23,24,25]"
   ]
  },
  {
   "cell_type": "code",
   "execution_count": 78,
   "id": "3b467669-f9d3-4707-bb5e-505b643903ac",
   "metadata": {},
   "outputs": [
    {
     "ename": "NameError",
     "evalue": "name 'reduce' is not defined",
     "output_type": "error",
     "traceback": [
      "\u001b[0;31m---------------------------------------------------------------------------\u001b[0m",
      "\u001b[0;31mNameError\u001b[0m                                 Traceback (most recent call last)",
      "Cell \u001b[0;32mIn[78], line 1\u001b[0m\n\u001b[0;32m----> 1\u001b[0m \u001b[43mreduce\u001b[49m(\u001b[38;5;28;01mlambda\u001b[39;00m x,y : x\u001b[38;5;241m*\u001b[39my , c)\n",
      "\u001b[0;31mNameError\u001b[0m: name 'reduce' is not defined"
     ]
    }
   ],
   "source": [
    "reduce(lambda x,y : x*y , c)"
   ]
  },
  {
   "cell_type": "raw",
   "id": "7e31c3ae-29ce-4b76-935b-f11fb60c49a3",
   "metadata": {},
   "source": [
    "Q5. Write a python program to filter the numbers in a given list that are divisible by 2 and 3 using the filter function.\n",
    "    [2,3,6,9,27,60,90,120,55,46]"
   ]
  },
  {
   "cell_type": "code",
   "execution_count": 68,
   "id": "0aaa5c99-f96f-495d-af2f-c5cfc4a7aa20",
   "metadata": {},
   "outputs": [],
   "source": [
    "d= [2,3,6,9,27,60,90,120,55,46]"
   ]
  },
  {
   "cell_type": "code",
   "execution_count": 70,
   "id": "31605315-14d0-43ef-8d02-34a7b1e179dc",
   "metadata": {},
   "outputs": [
    {
     "data": {
      "text/plain": [
       "[6, 60, 90, 120]"
      ]
     },
     "execution_count": 70,
     "metadata": {},
     "output_type": "execute_result"
    }
   ],
   "source": [
    "list(filter(lambda x : x%2 ==0 and x%3 ==0, d ))"
   ]
  },
  {
   "cell_type": "raw",
   "id": "781125b5-d30e-42a0-9e5b-469440163ed0",
   "metadata": {},
   "source": [
    "Q6. Write a python program to find palindromes in th given list of strings using lambda and filter function.\n",
    "    ['python','php','aba','radar','level']"
   ]
  },
  {
   "cell_type": "code",
   "execution_count": 71,
   "id": "f655e25a-66fa-47e7-a724-20ac6bc42ebb",
   "metadata": {},
   "outputs": [],
   "source": [
    "words= ['python','php','aba','radar','level']"
   ]
  },
  {
   "cell_type": "code",
   "execution_count": 75,
   "id": "8de18441-f541-4058-aa4c-ae34dbd52b55",
   "metadata": {},
   "outputs": [
    {
     "data": {
      "text/plain": [
       "['php', 'aba', 'radar', 'level']"
      ]
     },
     "execution_count": 75,
     "metadata": {},
     "output_type": "execute_result"
    }
   ],
   "source": [
    "list(filter(lambda word : word == word[::-1], words))"
   ]
  }
 ],
 "metadata": {
  "kernelspec": {
   "display_name": "Python 3 (ipykernel)",
   "language": "python",
   "name": "python3"
  },
  "language_info": {
   "codemirror_mode": {
    "name": "ipython",
    "version": 3
   },
   "file_extension": ".py",
   "mimetype": "text/x-python",
   "name": "python",
   "nbconvert_exporter": "python",
   "pygments_lexer": "ipython3",
   "version": "3.10.8"
  }
 },
 "nbformat": 4,
 "nbformat_minor": 5
}
