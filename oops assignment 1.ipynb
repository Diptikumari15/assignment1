{
 "cells": [
  {
   "cell_type": "markdown",
   "id": "ba8359bb-20ba-4c2b-94f7-3f792cf03586",
   "metadata": {},
   "source": [
    "# OOPS ASSIGNMENT 1"
   ]
  },
  {
   "cell_type": "code",
   "execution_count": null,
   "id": "12ef3045-eaa4-4f02-b209-3574606b2eaf",
   "metadata": {},
   "outputs": [],
   "source": [
    "Q1. Explain Class and Object with respect to Object-Oriented Programming. Give a suitable example."
   ]
  },
  {
   "cell_type": "code",
   "execution_count": null,
   "id": "7cdf7b5d-e2ae-4dcf-ba77-cee327dd1430",
   "metadata": {},
   "outputs": [],
   "source": [
    "Answer. To understand class and object , we need to understand what is oops , well oops(object\n",
    "        oriented programming system) is a method of structuring a program by bundling related \n",
    "        properties and behaviours into individual objects.\n",
    "    \n",
    "        A class is a blueprint for how something should be defined. It does not actually \n",
    "        contain any data.\n",
    "        \n",
    "        while the class is the blueprint, an object is built from a class and contains real data.\n",
    "        \n",
    "        for ex. \n",
    "        class pwskills:\n",
    "             def welcome_msg(self):\n",
    "                    print (\"welcome to pwskills\")\n",
    "           \n",
    "        the above code is an example of class , here we have made class pwskills which is just like\n",
    "        blueprint so we could perform the following functions but we also need an object to access\n",
    "        whatever is inside the class, to do so we need the code which is given below\n",
    "        \n",
    "        a = pwskills\n",
    "        a.welcome_msg()\n",
    "        \n",
    "        by doing this we will get the what is inside class pwskills which is welcome to pwskills.\n",
    "        \n",
    "        \n",
    "        \n",
    "    "
   ]
  },
  {
   "cell_type": "code",
   "execution_count": 1,
   "id": "f1752a59-3289-4217-8de6-09ddc7de72a9",
   "metadata": {},
   "outputs": [],
   "source": [
    "class pwskills:\n",
    "             def welcome_msg(self):\n",
    "                    print (\"welcome to pwskills\")\n",
    "           "
   ]
  },
  {
   "cell_type": "code",
   "execution_count": 3,
   "id": "a63b22ce-0a69-4218-b9d1-bb5a96d6deab",
   "metadata": {},
   "outputs": [],
   "source": [
    "a = pwskills()"
   ]
  },
  {
   "cell_type": "code",
   "execution_count": 4,
   "id": "e8ef3e5b-6319-458e-ae8f-51a705d86fd2",
   "metadata": {},
   "outputs": [
    {
     "name": "stdout",
     "output_type": "stream",
     "text": [
      "welcome to pwskills\n"
     ]
    }
   ],
   "source": [
    "a.welcome_msg()\n",
    "        "
   ]
  },
  {
   "cell_type": "code",
   "execution_count": null,
   "id": "99da7dd9-d274-4132-bd1f-ef20bc765496",
   "metadata": {},
   "outputs": [],
   "source": [
    "Q2. Name the four pillars of OOPs."
   ]
  },
  {
   "cell_type": "code",
   "execution_count": null,
   "id": "6d2e94b8-674c-4b7d-a147-437c83bcdb55",
   "metadata": {},
   "outputs": [],
   "source": [
    "Answer. The four pilars of OOPs are:\n",
    "       1.Polymorphism\n",
    "       2.Encapsulation\n",
    "       3.Inheritance\n",
    "       4.Abstraction"
   ]
  },
  {
   "cell_type": "code",
   "execution_count": null,
   "id": "4054bdd3-ca1a-4f24-b5f4-381535eac898",
   "metadata": {},
   "outputs": [],
   "source": [
    "Q3. Explain why the __init__() function is used. Give a suitable example."
   ]
  },
  {
   "cell_type": "code",
   "execution_count": null,
   "id": "d9855dbc-9f6f-4699-a95d-adecfe9486b2",
   "metadata": {},
   "outputs": [],
   "source": [
    "Answer. The __init__() function is also known as Constructor in OOPs .\n",
    "        The __init__() function in Python is used to initialize, or set up, an object when \n",
    "        it is created from a class. It's like giving a new object its starting values and attributes.\n",
    "\n",
    "        for example:\n",
    "            \n",
    "        Suppose you want to create a class called Car to represent different cars. Each car will have\n",
    "        attributes like make, model, and year, and you want to set these attributes when you create a \n",
    "        new car object. This is where the __init__() function comes in.\n",
    "        \n",
    "       "
   ]
  },
  {
   "cell_type": "code",
   "execution_count": 5,
   "id": "5cf30190-5691-4312-b0ee-14433024e09d",
   "metadata": {},
   "outputs": [],
   "source": [
    " class Car:\n",
    "        def __init__(self, make, model, year):\n",
    "            self.make = make  \n",
    "            self.model = model  \n",
    "            self.year = year  \n"
   ]
  },
  {
   "cell_type": "code",
   "execution_count": 10,
   "id": "51f10a91-f8d3-439e-9a06-02ec3ef177e1",
   "metadata": {},
   "outputs": [],
   "source": [
    " # Now, let's create a car object:\n",
    "my_car = Car(\"Toyota\", \"Camry\", 2023)\n"
   ]
  },
  {
   "cell_type": "code",
   "execution_count": 11,
   "id": "a0cda586-d62d-406a-8056-89c93ef0eb15",
   "metadata": {},
   "outputs": [
    {
     "data": {
      "text/plain": [
       "'Toyota'"
      ]
     },
     "execution_count": 11,
     "metadata": {},
     "output_type": "execute_result"
    }
   ],
   "source": [
    "my_car.make"
   ]
  },
  {
   "cell_type": "code",
   "execution_count": null,
   "id": "dcbbc825-563d-4bb3-9f46-8875e219f240",
   "metadata": {},
   "outputs": [],
   "source": [
    "Q4. Why self is used in OOPs?"
   ]
  },
  {
   "cell_type": "code",
   "execution_count": null,
   "id": "4727e02b-8b50-4c38-8ef5-4058fc1e2633",
   "metadata": {},
   "outputs": [],
   "source": [
    "Answer. In object-oriented programming (OOP), the self keyword is used to refer to the current\n",
    "        instance of a class. It's like a way for objects to talk about themselves. It allows \n",
    "        each object to access and modify its own attributes and methods, ensuring that data and \n",
    "        actions are specific to that instance. This helps in keeping the state of each object \n",
    "        separate and organized."
   ]
  },
  {
   "cell_type": "code",
   "execution_count": null,
   "id": "2b98d8fd-2512-4e72-91b9-3495ce664502",
   "metadata": {},
   "outputs": [],
   "source": [
    "Q5. What is inheritance? Give an example for each type of inheritance."
   ]
  },
  {
   "cell_type": "code",
   "execution_count": null,
   "id": "f932990b-479b-4b15-864c-0754fe99f911",
   "metadata": {},
   "outputs": [],
   "source": [
    "Answer. Inheritance is a fundamental concept in object-oriented programming (OOP) that allows\n",
    "        a new class (called a subclass or derived class) to inherit attributes and methods from\n",
    "        an existing class (called a superclass or base class). \n",
    "        \n",
    "        The two basic type of inheritance are:\n",
    "        \n",
    "        1. Multilabel inheritance:\n",
    "           In this type of inheritance, we can inherit attributes and methods from the superior\n",
    "           exixting classes. To understand it in simpler way , suppose there are 3 classes \n",
    "           class1, class2, class3. class1 will have its own method and it will not inherit anything \n",
    "           as there is no superior class, class2 have its own method and it could also inherit class1\n",
    "           methods and attribute , now class3 have its own method and it could inherit both the class1\n",
    "           and class2 methods and attributes.\n",
    "            \n",
    "           for example:\n",
    "            \n",
    "           "
   ]
  },
  {
   "cell_type": "code",
   "execution_count": 12,
   "id": "2ad0229f-9086-48c6-afb0-f5d86f9cbee7",
   "metadata": {},
   "outputs": [],
   "source": [
    "class class1:\n",
    "    def test_class1(self):\n",
    "        print(\"this is my first class\" )"
   ]
  },
  {
   "cell_type": "code",
   "execution_count": 13,
   "id": "80743dd9-b801-467d-9c89-edb42f8fce66",
   "metadata": {},
   "outputs": [],
   "source": [
    "class class2(class1):\n",
    "    def test_class2(self):\n",
    "        print(\"this is my second class\" )"
   ]
  },
  {
   "cell_type": "code",
   "execution_count": 14,
   "id": "fe47ccea-05ca-4f3e-bdec-7a56a83467fc",
   "metadata": {},
   "outputs": [],
   "source": [
    "class class3(class2):\n",
    "    def test_class3(self):\n",
    "        print(\"this is my third class\" )"
   ]
  },
  {
   "cell_type": "code",
   "execution_count": 10,
   "id": "2d067eb7-8250-4112-aed2-5a5816b32ea7",
   "metadata": {},
   "outputs": [],
   "source": [
    "obj_class3 = class3()"
   ]
  },
  {
   "cell_type": "code",
   "execution_count": 11,
   "id": "8416391f-bd6d-4dbc-9812-efad9e7308e8",
   "metadata": {},
   "outputs": [
    {
     "name": "stdout",
     "output_type": "stream",
     "text": [
      "this is my third class\n"
     ]
    }
   ],
   "source": [
    "obj_class3.test_class3()"
   ]
  },
  {
   "cell_type": "code",
   "execution_count": 15,
   "id": "9cfa58a5-f8a0-4ee6-b79a-0862131dc296",
   "metadata": {},
   "outputs": [
    {
     "name": "stdout",
     "output_type": "stream",
     "text": [
      "this is my second class\n"
     ]
    }
   ],
   "source": [
    "obj_class3.test_class2()"
   ]
  },
  {
   "cell_type": "code",
   "execution_count": 16,
   "id": "3705542a-706a-408b-9ab7-fa310459fbf6",
   "metadata": {},
   "outputs": [
    {
     "name": "stdout",
     "output_type": "stream",
     "text": [
      "this is my third class\n"
     ]
    }
   ],
   "source": [
    "obj_class3.test_class3()"
   ]
  },
  {
   "cell_type": "code",
   "execution_count": null,
   "id": "fe7753d9-68ee-4bbc-aeae-3ff2b578315a",
   "metadata": {},
   "outputs": [],
   "source": [
    "2. Multiple inheritance :\n",
    "   This is just a little different from multilabel inheritance,In this type of inheritance,\n",
    "   we can inherit attributes and methods from the superior exixting classes to a single class. \n",
    "   To understand it in simpler way , suppose there are 3 classes class1, class2, class3. \n",
    "   class1 will have its own method and it will not inherit anything as there is no superior class,\n",
    "   class2 have its own method and it could also not inherit class1 methods and attribute,\n",
    "   now class3 have its own method and it could inherit both the class1 and class2 methods and attributes.\n",
    "   \n",
    "   for example:\n",
    "        "
   ]
  },
  {
   "cell_type": "code",
   "execution_count": 35,
   "id": "d3cefd2b-61ce-4b2e-b063-5dc107bc976f",
   "metadata": {},
   "outputs": [],
   "source": [
    "class new_class1:\n",
    "    def new_test_class1(self):\n",
    "        print(\"this is my first class\" )"
   ]
  },
  {
   "cell_type": "code",
   "execution_count": 36,
   "id": "72765be3-63c9-4fdd-929f-40a5cf665fde",
   "metadata": {},
   "outputs": [],
   "source": [
    "class new_class2:\n",
    "    def new_test_class2(self):\n",
    "        print(\"this is my second class\" )"
   ]
  },
  {
   "cell_type": "code",
   "execution_count": 39,
   "id": "3e96430d-2a70-4a24-86ca-69570db26707",
   "metadata": {},
   "outputs": [],
   "source": [
    "class new_class3(new_class1, new_class2):\n",
    "    def new_test_class3(self):\n",
    "        print(\"this is my third class\" )"
   ]
  },
  {
   "cell_type": "code",
   "execution_count": 40,
   "id": "0be854e4-f256-438d-89ce-dfb7e5667187",
   "metadata": {},
   "outputs": [],
   "source": [
    "obj_class= new_class3()"
   ]
  },
  {
   "cell_type": "code",
   "execution_count": 42,
   "id": "58af9534-cbfe-45b2-a0e1-82504d527cb9",
   "metadata": {},
   "outputs": [
    {
     "name": "stdout",
     "output_type": "stream",
     "text": [
      "this is my first class\n"
     ]
    }
   ],
   "source": [
    "obj_class.new_test_class1()"
   ]
  },
  {
   "cell_type": "code",
   "execution_count": 43,
   "id": "ab44c4f4-d2a1-4f61-a7cb-8df134548cf9",
   "metadata": {},
   "outputs": [
    {
     "name": "stdout",
     "output_type": "stream",
     "text": [
      "this is my second class\n"
     ]
    }
   ],
   "source": [
    "obj_class.new_test_class2()"
   ]
  },
  {
   "cell_type": "code",
   "execution_count": 44,
   "id": "7529638b-f613-4d30-a766-864c75065f48",
   "metadata": {},
   "outputs": [
    {
     "name": "stdout",
     "output_type": "stream",
     "text": [
      "this is my third class\n"
     ]
    }
   ],
   "source": [
    "obj_class.new_test_class3()"
   ]
  },
  {
   "cell_type": "code",
   "execution_count": 46,
   "id": "0391a205-fe7c-4e3a-8c28-a21794a40181",
   "metadata": {},
   "outputs": [],
   "source": [
    "obj_class2 = new_class2()"
   ]
  },
  {
   "cell_type": "code",
   "execution_count": 47,
   "id": "5ae165f3-79d8-48d4-9b7c-6c0a09c2477e",
   "metadata": {},
   "outputs": [
    {
     "name": "stdout",
     "output_type": "stream",
     "text": [
      "this is my second class\n"
     ]
    }
   ],
   "source": [
    "# new_class2 will not inherit from any other classes, it will only work on its won method.\n",
    "obj_class2.new_test_class2()"
   ]
  }
 ],
 "metadata": {
  "kernelspec": {
   "display_name": "Python 3 (ipykernel)",
   "language": "python",
   "name": "python3"
  },
  "language_info": {
   "codemirror_mode": {
    "name": "ipython",
    "version": 3
   },
   "file_extension": ".py",
   "mimetype": "text/x-python",
   "name": "python",
   "nbconvert_exporter": "python",
   "pygments_lexer": "ipython3",
   "version": "3.10.8"
  }
 },
 "nbformat": 4,
 "nbformat_minor": 5
}
