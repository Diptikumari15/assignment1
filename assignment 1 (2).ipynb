{
 "cells": [
  {
   "cell_type": "code",
   "execution_count": null,
   "id": "feef1b7e-582f-4934-8190-b840650a0363",
   "metadata": {},
   "outputs": [],
   "source": [
    "Q1. Create one variable containing following type of data:\n",
    "   (1) string\n",
    "   (2) list\n",
    "   (3) float\n",
    "   (4) tuple"
   ]
  },
  {
   "cell_type": "code",
   "execution_count": null,
   "id": "6b4bf6c5-24fa-46b2-ba13-1019bf02d8c2",
   "metadata": {},
   "outputs": [],
   "source": [
    "answer Q1:\n",
    "    "
   ]
  },
  {
   "cell_type": "code",
   "execution_count": 1,
   "id": "ee85be9a-7c2a-49ca-be4c-e46bb079cff9",
   "metadata": {},
   "outputs": [],
   "source": [
    "a=\"dipti\""
   ]
  },
  {
   "cell_type": "code",
   "execution_count": 2,
   "id": "b708ddd1-a139-47af-9fe4-1bbf580edc18",
   "metadata": {},
   "outputs": [],
   "source": [
    "b=[123,2.44,\"dipti\",True,3+4j]"
   ]
  },
  {
   "cell_type": "code",
   "execution_count": 5,
   "id": "afdf45ae-52f0-4bd5-84c9-1f9feffaf965",
   "metadata": {},
   "outputs": [],
   "source": [
    "c=2.456"
   ]
  },
  {
   "cell_type": "code",
   "execution_count": 7,
   "id": "926f6a41-11f2-4dce-af27-7f395d21177d",
   "metadata": {},
   "outputs": [],
   "source": [
    "d=(234,45.678,\"jyoti\",False,4+8j)"
   ]
  },
  {
   "cell_type": "code",
   "execution_count": null,
   "id": "2a55459d-2bbc-4ecd-96df-792e305bfa4b",
   "metadata": {},
   "outputs": [],
   "source": [
    "Q2. Given are some following variables containing data:\n",
    "    (1)var1=' '\n",
    "ans. String\n",
    "    (2)var2= '[DS,ML,Python]'\n",
    "ans. String\n",
    "    (3)var3=['DS','ML','python']\n",
    "ans. List\n",
    "    (4)var4=1\n",
    "ans. integer    "
   ]
  },
  {
   "cell_type": "code",
   "execution_count": null,
   "id": "6a088b55-7948-4c50-a7f9-ab7654ff36ae",
   "metadata": {},
   "outputs": [],
   "source": [
    "Q3. Explain the use of following operators using an example:\n",
    "    (a) /\n",
    "    (b) %\n",
    "    (c) //\n",
    "    (d) **"
   ]
  },
  {
   "cell_type": "code",
   "execution_count": null,
   "id": "7b305490-1297-4130-809f-c0c927d3f540",
   "metadata": {},
   "outputs": [],
   "source": [
    "Answer3:"
   ]
  },
  {
   "cell_type": "code",
   "execution_count": null,
   "id": "a50ea85c-91f1-49f7-9376-fec52f4a30a3",
   "metadata": {},
   "outputs": [],
   "source": [
    "(a) The / operator is used for division of numbers.\n",
    "    for example: "
   ]
  },
  {
   "cell_type": "code",
   "execution_count": 8,
   "id": "4207a741-7ff1-4b6e-96c4-89aa9ed4aa94",
   "metadata": {},
   "outputs": [
    {
     "data": {
      "text/plain": [
       "2.0"
      ]
     },
     "execution_count": 8,
     "metadata": {},
     "output_type": "execute_result"
    }
   ],
   "source": [
    "20/10"
   ]
  },
  {
   "cell_type": "code",
   "execution_count": null,
   "id": "819df922-8dee-4af9-af6a-52a37b5a5372",
   "metadata": {},
   "outputs": [],
   "source": [
    "(b) The % operator is used for finding the remainder of numbers.\n",
    "    for example:"
   ]
  },
  {
   "cell_type": "code",
   "execution_count": 10,
   "id": "ae52ea4a-9eb9-43ed-a951-1d5ab11da14a",
   "metadata": {},
   "outputs": [
    {
     "data": {
      "text/plain": [
       "1"
      ]
     },
     "execution_count": 10,
     "metadata": {},
     "output_type": "execute_result"
    }
   ],
   "source": [
    "4%3"
   ]
  },
  {
   "cell_type": "code",
   "execution_count": null,
   "id": "523ed2af-56af-4f93-9a64-f52568e81427",
   "metadata": {},
   "outputs": [],
   "source": [
    "(c) The // operator is used for division floor function.\n",
    "    for example:"
   ]
  },
  {
   "cell_type": "code",
   "execution_count": 11,
   "id": "05a6f92e-5b88-4e1a-837d-f5471601ae15",
   "metadata": {},
   "outputs": [
    {
     "data": {
      "text/plain": [
       "1"
      ]
     },
     "execution_count": 11,
     "metadata": {},
     "output_type": "execute_result"
    }
   ],
   "source": [
    "4//3"
   ]
  },
  {
   "cell_type": "code",
   "execution_count": null,
   "id": "bfab3d44-174e-4104-9d11-5a0e171f306b",
   "metadata": {},
   "outputs": [],
   "source": [
    "(d) The ** operator is used for solving the exponent power of numbers.\n",
    "    for example:"
   ]
  },
  {
   "cell_type": "code",
   "execution_count": 12,
   "id": "59ea544f-d36f-4bb7-92a6-9e3d28da0b3b",
   "metadata": {},
   "outputs": [
    {
     "data": {
      "text/plain": [
       "8"
      ]
     },
     "execution_count": 12,
     "metadata": {},
     "output_type": "execute_result"
    }
   ],
   "source": [
    "2**3"
   ]
  },
  {
   "cell_type": "code",
   "execution_count": null,
   "id": "34f72095-ae66-417c-88ea-78d65cb712ff",
   "metadata": {},
   "outputs": [],
   "source": [
    "Q4. Create a list of length 10 of your choice containing multiple types of data. Using for loop print the elements and its data type."
   ]
  },
  {
   "cell_type": "code",
   "execution_count": null,
   "id": "969b8d08-3c95-4b43-b3ca-12ef0447f733",
   "metadata": {},
   "outputs": [],
   "source": [
    "Answer4:  "
   ]
  },
  {
   "cell_type": "code",
   "execution_count": 1,
   "id": "3cc88170-f049-48e8-9c24-43f6d993dfd8",
   "metadata": {},
   "outputs": [
    {
     "name": "stdout",
     "output_type": "stream",
     "text": [
      "234\n",
      "<class 'int'>\n",
      "34.568\n",
      "<class 'float'>\n",
      "Dipti\n",
      "<class 'str'>\n",
      "True\n",
      "<class 'bool'>\n",
      "(4+7j)\n",
      "<class 'complex'>\n",
      "45\n",
      "<class 'int'>\n",
      "pwskills\n",
      "<class 'str'>\n",
      "False\n",
      "<class 'bool'>\n",
      "(3+7j)\n",
      "<class 'complex'>\n",
      "8.9\n",
      "<class 'float'>\n"
     ]
    }
   ],
   "source": [
    "e=[234,34.568,\"Dipti\",True,4+7j,45,\"pwskills\",False,3+7j,8.9]  \n",
    "for z in e:\n",
    "     print(z)\n",
    "     print(type(z))\n",
    "\n",
    "        "
   ]
  },
  {
   "cell_type": "code",
   "execution_count": null,
   "id": "8b62189e-bfd4-4fe1-905f-9e23199b7d10",
   "metadata": {},
   "outputs": [],
   "source": [
    "Q5. Using a while loop, verify if the number A is purely divisible by number B and if so then how many times it can be divisible."
   ]
  },
  {
   "cell_type": "code",
   "execution_count": null,
   "id": "b65227f9-f659-4af8-912e-cdaaffe15ed0",
   "metadata": {},
   "outputs": [],
   "source": [
    "Answer: "
   ]
  },
  {
   "cell_type": "code",
   "execution_count": 5,
   "id": "755931bb-d704-4635-9fa8-0fe5782df162",
   "metadata": {},
   "outputs": [
    {
     "name": "stdout",
     "output_type": "stream",
     "text": [
      "5.0 is divisible by 2 and can be divided 2 times.\n"
     ]
    }
   ],
   "source": [
    "A = 20\n",
    "B = 2\n",
    "\n",
    "count = 0\n",
    "while A%B ==0:\n",
    "    A = A/B\n",
    "    count +=1\n",
    "if count > 0:\n",
    "    print(f\"{A} is divisible by {B} and can be divided {count} times.\")\n",
    "else:\n",
    "          print(f\"{A} is not divisible by {B}.\")\n",
    "          "
   ]
  },
  {
   "cell_type": "code",
   "execution_count": null,
   "id": "1cd3cf20-f44b-4c68-9f36-5554a35a49de",
   "metadata": {},
   "outputs": [],
   "source": [
    "Q6. Create a list containing 25 int type data. Using for loop and if-else condition print if the element is divisible by 3 or not. "
   ]
  },
  {
   "cell_type": "code",
   "execution_count": null,
   "id": "d0f9e4c2-f421-4f2b-b371-3849bec140fe",
   "metadata": {},
   "outputs": [],
   "source": [
    "Answer:\n"
   ]
  },
  {
   "cell_type": "code",
   "execution_count": 2,
   "id": "da6c1e86-f156-44b0-b48d-bbd50f70c95c",
   "metadata": {},
   "outputs": [
    {
     "name": "stdout",
     "output_type": "stream",
     "text": [
      "3 is divisible by 3.\n",
      "6 is divisible by 3.\n",
      "9 is divisible by 3.\n",
      "12 is divisible by 3.\n",
      "15 is divisible by 3.\n",
      "18 is divisible by 3.\n",
      "21 is divisible by 3.\n",
      "24 is divisible by 3.\n",
      "25 is not divisible by 3.\n"
     ]
    }
   ],
   "source": [
    "numbers = [1, 2, 3, 4, 5, 6, 7, 8, 9, 10, 11, 12, 13, 14, 15, 16, 17, 18, 19, 20, 21, 22, 23, 24, 25]\n",
    "\n",
    "for num in numbers:\n",
    "    if num%3 ==0:\n",
    "        print(f\"{num} is divisible by 3.\")\n",
    "else:\n",
    "    print(f\"{num} is not divisible by 3.\")\n",
    "\n"
   ]
  },
  {
   "cell_type": "code",
   "execution_count": null,
   "id": "7456bfae-68ba-4a3d-bb18-3f655513558a",
   "metadata": {},
   "outputs": [],
   "source": [
    "Q7. What do you understand about mutable and immutable data types? Give examples for both showing this property."
   ]
  },
  {
   "cell_type": "code",
   "execution_count": null,
   "id": "4314b3a9-0dc9-454f-a45f-8a500ebdf58b",
   "metadata": {},
   "outputs": [],
   "source": [
    "Answer: Mutable data types are those whose value can be modified after they are created.\n",
    "        for example. list"
   ]
  },
  {
   "cell_type": "code",
   "execution_count": 3,
   "id": "8a4ab60b-6c67-4acd-979f-ba4af0813911",
   "metadata": {},
   "outputs": [],
   "source": [
    "l= ['dipti' , 1, 2, 3, 4, True, 25.6]\n"
   ]
  },
  {
   "cell_type": "code",
   "execution_count": 4,
   "id": "6f51c83d-4e74-4650-a715-168301f2721d",
   "metadata": {},
   "outputs": [],
   "source": [
    "l[2]= 5"
   ]
  },
  {
   "cell_type": "code",
   "execution_count": 5,
   "id": "da00de85-9881-4137-9c23-60ae070e974e",
   "metadata": {},
   "outputs": [
    {
     "data": {
      "text/plain": [
       "['dipti', 1, 5, 3, 4, True, 25.6]"
      ]
     },
     "execution_count": 5,
     "metadata": {},
     "output_type": "execute_result"
    }
   ],
   "source": [
    "l"
   ]
  },
  {
   "cell_type": "code",
   "execution_count": null,
   "id": "6c9178d2-56de-426c-b542-b2f092edeb8d",
   "metadata": {},
   "outputs": [],
   "source": [
    "Immutable data types are those whose value cannot be modified after they are created.\n",
    "        for example. string"
   ]
  },
  {
   "cell_type": "code",
   "execution_count": 9,
   "id": "96701d08-bea3-448c-8fd3-8dc5def49f2f",
   "metadata": {},
   "outputs": [],
   "source": [
    "s =  \"dipti\""
   ]
  },
  {
   "cell_type": "code",
   "execution_count": 10,
   "id": "48d0f8cb-c750-4c82-ab82-9ef4a99bd924",
   "metadata": {},
   "outputs": [
    {
     "data": {
      "text/plain": [
       "'dipti'"
      ]
     },
     "execution_count": 10,
     "metadata": {},
     "output_type": "execute_result"
    }
   ],
   "source": [
    "s"
   ]
  },
  {
   "cell_type": "code",
   "execution_count": 11,
   "id": "a6abdc5b-c241-4a45-9b89-6aa12e6647a6",
   "metadata": {},
   "outputs": [
    {
     "data": {
      "text/plain": [
       "'p'"
      ]
     },
     "execution_count": 11,
     "metadata": {},
     "output_type": "execute_result"
    }
   ],
   "source": [
    "s[2]"
   ]
  },
  {
   "cell_type": "code",
   "execution_count": 12,
   "id": "254a12ec-306f-47ae-8531-3acd37e5fe8a",
   "metadata": {},
   "outputs": [
    {
     "ename": "NameError",
     "evalue": "name 'g' is not defined",
     "output_type": "error",
     "traceback": [
      "\u001b[0;31m---------------------------------------------------------------------------\u001b[0m",
      "\u001b[0;31mNameError\u001b[0m                                 Traceback (most recent call last)",
      "Cell \u001b[0;32mIn[12], line 1\u001b[0m\n\u001b[0;32m----> 1\u001b[0m s[\u001b[38;5;241m2\u001b[39m] \u001b[38;5;241m=\u001b[39m \u001b[43mg\u001b[49m\n",
      "\u001b[0;31mNameError\u001b[0m: name 'g' is not defined"
     ]
    }
   ],
   "source": [
    "s[2] = g"
   ]
  },
  {
   "cell_type": "code",
   "execution_count": 13,
   "id": "b142045d-79f6-4d3f-baa7-9f91521203fe",
   "metadata": {},
   "outputs": [
    {
     "data": {
      "text/plain": [
       "'dipti'"
      ]
     },
     "execution_count": 13,
     "metadata": {},
     "output_type": "execute_result"
    }
   ],
   "source": [
    "s"
   ]
  },
  {
   "cell_type": "code",
   "execution_count": null,
   "id": "57b1b1c0-5f17-4e68-a743-2e16257bba81",
   "metadata": {},
   "outputs": [],
   "source": []
  }
 ],
 "metadata": {
  "kernelspec": {
   "display_name": "Python 3 (ipykernel)",
   "language": "python",
   "name": "python3"
  },
  "language_info": {
   "codemirror_mode": {
    "name": "ipython",
    "version": 3
   },
   "file_extension": ".py",
   "mimetype": "text/x-python",
   "name": "python",
   "nbconvert_exporter": "python",
   "pygments_lexer": "ipython3",
   "version": "3.10.8"
  }
 },
 "nbformat": 4,
 "nbformat_minor": 5
}
