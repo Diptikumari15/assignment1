{
 "cells": [
  {
   "cell_type": "code",
   "execution_count": 1,
   "id": "8c5c5647-e713-4b55-8c86-1e969777f0c4",
   "metadata": {},
   "outputs": [],
   "source": [
    "#Q1. What is statistics?"
   ]
  },
  {
   "cell_type": "code",
   "execution_count": 2,
   "id": "5add1fcc-4657-4b35-a05d-24e097d8a2de",
   "metadata": {},
   "outputs": [],
   "source": [
    "#Answer. Statistics is the science of collecting, organising and analyzing the data."
   ]
  },
  {
   "cell_type": "code",
   "execution_count": 3,
   "id": "cc68f8f5-f9e4-46d6-ab5c-93bf29c83f70",
   "metadata": {},
   "outputs": [],
   "source": [
    "#Q2. Define the different types of statistics and give an example of when each type might     be used."
   ]
  },
  {
   "cell_type": "code",
   "execution_count": 5,
   "id": "980b4561-df35-43ca-b6bd-bb1679e74cce",
   "metadata": {},
   "outputs": [],
   "source": [
    "#Answer. Descriptive Statistics :- It consists of organising and summarizing te data.\n",
    "#        example - To find the average height of the student in the class.\n",
    "        \n",
    "#        Inferential Statistics :- It consists of using data you have measured to form             conclusion.\n",
    " #       example - \"Are the average height of the students in the classroom similar to             what you expect in the entire college.\""
   ]
  },
  {
   "cell_type": "code",
   "execution_count": 6,
   "id": "1cc879dd-f726-4fbc-bd5a-2d3bb55664fa",
   "metadata": {},
   "outputs": [],
   "source": [
    "#Q3. What are the different types of Data and how do they differ from each other ? Provide     an example of each type of data."
   ]
  },
  {
   "cell_type": "code",
   "execution_count": 11,
   "id": "676d6b8b-a19b-4aa1-bc6f-424225292d35",
   "metadata": {},
   "outputs": [],
   "source": [
    "#Answer. Types of data:-\n",
    "#        Quantitave Data:\n",
    "#       1. Descrete data - 4,5,6,87\n",
    "#      2. Continuous data - 4,4.5,6,6.7\n",
    "       \n",
    "#        Qualitative data:         \n",
    "#        1. Nominal data - male/female, red/blue/green\n",
    "#       2. Ordinal data - rank(1,2,3), good/bad/satisfactory "
   ]
  },
  {
   "cell_type": "code",
   "execution_count": 12,
   "id": "770611b7-0db3-4984-89c9-c156c3b835f2",
   "metadata": {},
   "outputs": [],
   "source": [
    "#Q4. Categorise the following datasets with respect to quantitative and qualitative data       types:\n",
    "#  (1). Grading in exam: A+, A, B+, B, C+, D, E\n",
    "#   answer. Ordinal data\n",
    "#  (2). Colour o the mangoes: yellow, green, orange, red\n",
    "#  answer. Nominal data\n",
    "#  (3). Height data of a class: [178.9, 179, 179.5, 177.2, 178.3, 175.8,.....]\n",
    "#  answer. Continuous data\n",
    "#  (4). Number of mangoes exported by a farm:[500, 600, 478, 672,...]\n",
    "#  answer. Descrete data"
   ]
  },
  {
   "cell_type": "code",
   "execution_count": 13,
   "id": "4d0b2fd0-46a5-4b26-8bcf-47b2fb84adc3",
   "metadata": {},
   "outputs": [],
   "source": [
    "#Q5. Explain the concepts of levels of measurement and give an example of a variable of       each level."
   ]
  },
  {
   "cell_type": "code",
   "execution_count": 14,
   "id": "3e902947-c755-4b02-a84e-daf4b0077718",
   "metadata": {},
   "outputs": [],
   "source": [
    "#Answer. 1. Nominal scale data - In this level of measurement , only qualitative variable                                 are taken and order\\rank does not matter.\n",
    "#                   example - red, blue , yellow\n",
    "#        2. Ordinal scale data - In this level of measurement, ranking and order matter ,                                 and difference can not be measured.\n",
    "#                    example - 1st, 2nd, 3rd\n",
    "#        3. Interval scale data -In this level of measurement, ranking and order matter ,                                 difference can  be measured, and does not have 0 starting                                 value.\n",
    "#                   example - temperature\n",
    "#        4. Ratio scale data - In this level of measurement, ranking and order matter ,                                 difference and ratio  can  be measured, and does  have 0                                 starting  value.\n",
    "#                    example -  grades        "
   ]
  },
  {
   "cell_type": "code",
   "execution_count": 15,
   "id": "6c37ad91-2144-4003-928f-29766df16eac",
   "metadata": {},
   "outputs": [],
   "source": [
    "#Q6. Why is it important to understand the level of measurement when analyzing the data?       Provide an example to illustrate your answer. "
   ]
  },
  {
   "cell_type": "code",
   "execution_count": 16,
   "id": "f4e37a00-f7cf-4182-8aa2-9171f98f2823",
   "metadata": {},
   "outputs": [],
   "source": [
    "#Answer. It is important to understand the level of measurement when analyzing the databecause  it determines the types of statistical analyses that can be appropriately applied to the data.\n",
    "#        Imagine  conducting a survey to collect data about people's favorite colors.\n",
    "\n",
    "#         If you use the nominal level of measurement, you can categorize the colors (e.g., red, blue, green) and count how many people like each color.\n",
    "\n",
    "#         If you use the ordinal level of measurement, you can rank the colors in order of popularity (e.g., most popular to least popular).\n",
    "\n",
    "#         If you use the interval level of measurement, you can give each color a numerical rating (e.g., 1 for red, 2 for blue) but remember there's no \"zero\" color.\n",
    "\n",
    "#        If you use the ratio level of measurement, you can assign numerical values to colors with a meaningful zero (e.g., measuring the exact amount of red pigment in each color)."
   ]
  },
  {
   "cell_type": "code",
   "execution_count": 17,
   "id": "19a3f080-45a3-4983-9600-5fcaca5d7fc6",
   "metadata": {},
   "outputs": [],
   "source": [
    "#Q7. How nominal data type is different from ordinal data type."
   ]
  },
  {
   "cell_type": "code",
   "execution_count": 18,
   "id": "3a7d1e3e-7265-4616-b2ee-f5d27de03245",
   "metadata": {},
   "outputs": [],
   "source": [
    "#Answer. In nominal data type, order and ranking the data can not be possible but in ordinal data type order and ranking the data can be possible. "
   ]
  },
  {
   "cell_type": "code",
   "execution_count": 20,
   "id": "e2639c01-0a65-46f2-bb26-a83f1c233a9c",
   "metadata": {},
   "outputs": [],
   "source": [
    "#Q8.Which type  plot can be used to display data in terms of range?"
   ]
  },
  {
   "cell_type": "code",
   "execution_count": 21,
   "id": "19507094-58a2-4fa6-9784-2d83bf3044c1",
   "metadata": {},
   "outputs": [],
   "source": [
    "#Answer. Box plot"
   ]
  },
  {
   "cell_type": "code",
   "execution_count": 22,
   "id": "55cd95d4-55ae-4152-98af-c18f3ba4c6ed",
   "metadata": {},
   "outputs": [],
   "source": [
    "#Q9. Describe the differnce between descriptive and inferential statistics. Give an           example of each type of statistics and explain how they are used."
   ]
  },
  {
   "cell_type": "code",
   "execution_count": 23,
   "id": "e5111838-6753-44b6-aeac-b2a63cf971b7",
   "metadata": {},
   "outputs": [],
   "source": [
    "#Answer.  Descriptive Statistics is used to  organise and summarise te data. for example -  mean, median , mode and they are used to find the average height of the student in the  class.\n",
    "#        where as \n",
    "#        Inferential Statistics consists of using data you have measured to form conclusion. for example - Z-test, T-test and are used to find the conclusion like \"Are the average height of the students in the classroom similar to what you expect in the entire college.\"\n",
    "        "
   ]
  },
  {
   "cell_type": "code",
   "execution_count": 24,
   "id": "956f2a45-8488-458d-8d5d-b6ef90e71da4",
   "metadata": {},
   "outputs": [],
   "source": [
    "#Q10. What are some common measures of central tendency and variability used in statistics? Explain how each measure can be used to describe a dataset."
   ]
  },
  {
   "cell_type": "code",
   "execution_count": 25,
   "id": "971c0aff-e2ad-4da4-af42-4eac438faf85",
   "metadata": {},
   "outputs": [],
   "source": [
    "#Answer. Measures of Central Tendency:\n",
    "\n",
    "#Mean :\n",
    "#The mean provides the average or typical value in the dataset. It's appropriate for data with a symmetric distribution and no extreme outliers.\n",
    "\n",
    "#Median:\n",
    "#It represents the central value that divides the data into two equal halves.\n",
    "\n",
    "#Mode:\n",
    "#It identifies the most common category or value.\n",
    "\n",
    "#Measures of Variability (Dispersion):\n",
    "\n",
    "#Variance:\n",
    "#Variance quantifies the overall spread or dispersion of data. \n",
    " \n",
    "#Standard Deviation:\n",
    "#It helps assess the spread around the mean."
   ]
  }
 ],
 "metadata": {
  "kernelspec": {
   "display_name": "Python 3 (ipykernel)",
   "language": "python",
   "name": "python3"
  },
  "language_info": {
   "codemirror_mode": {
    "name": "ipython",
    "version": 3
   },
   "file_extension": ".py",
   "mimetype": "text/x-python",
   "name": "python",
   "nbconvert_exporter": "python",
   "pygments_lexer": "ipython3",
   "version": "3.10.8"
  }
 },
 "nbformat": 4,
 "nbformat_minor": 5
}
