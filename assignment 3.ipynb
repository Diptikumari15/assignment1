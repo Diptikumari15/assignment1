{
 "cells": [
  {
   "cell_type": "markdown",
   "id": "16d4a965-1976-4c06-a9ea-6ba542c7d8b0",
   "metadata": {},
   "source": [
    "# functions assignment"
   ]
  },
  {
   "cell_type": "raw",
   "id": "ef1adc54-3d7b-4408-9013-e9402082c1ac",
   "metadata": {},
   "source": [
    "Q1.Which keyword is used to create a function? Create a function to return a list of odd numbers in the range of 1 to 25."
   ]
  },
  {
   "cell_type": "raw",
   "id": "d4d03d7f-3fa9-42df-859c-cd48f8cba14e",
   "metadata": {},
   "source": [
    "Answer. 'def' is used to create a function. "
   ]
  },
  {
   "cell_type": "code",
   "execution_count": 1,
   "id": "18b90953-ed54-42c6-b880-41ed89ed1615",
   "metadata": {},
   "outputs": [],
   "source": [
    "def odd(start,end):\n",
    "    return [num for num in range (1,26) if num % 2 !=0]"
   ]
  },
  {
   "cell_type": "code",
   "execution_count": 2,
   "id": "8356eb27-5e41-462e-94fc-c4d051149df9",
   "metadata": {},
   "outputs": [
    {
     "data": {
      "text/plain": [
       "[1, 3, 5, 7, 9, 11, 13, 15, 17, 19, 21, 23, 25]"
      ]
     },
     "execution_count": 2,
     "metadata": {},
     "output_type": "execute_result"
    }
   ],
   "source": [
    "odd(1,26)"
   ]
  },
  {
   "cell_type": "raw",
   "id": "b7a1efda-e556-4453-bd21-fdb69344af58",
   "metadata": {},
   "source": [
    "Q2. why *args and **kwargs is used in some functions? Create a function each for *args and **kwargs to demonstrate their use."
   ]
  },
  {
   "cell_type": "raw",
   "id": "90351669-e713-4dda-92ba-588f642e30b2",
   "metadata": {},
   "source": [
    "Answer. '*args' are used in some functions because it helps us to take any numbers of arguments , and '**kwargs' are used some functions to act as the key and value pair or as sets.   "
   ]
  },
  {
   "cell_type": "code",
   "execution_count": 47,
   "id": "ac4872ab-da75-4119-91db-03654952e4c7",
   "metadata": {},
   "outputs": [],
   "source": [
    "def test(*args):\n",
    "    return args"
   ]
  },
  {
   "cell_type": "code",
   "execution_count": 48,
   "id": "45f93ee3-1dfa-47a4-88b1-68901b2d8532",
   "metadata": {},
   "outputs": [
    {
     "data": {
      "text/plain": [
       "(1, 2, 3, 4, 5, 6, 7, 8)"
      ]
     },
     "execution_count": 48,
     "metadata": {},
     "output_type": "execute_result"
    }
   ],
   "source": [
    "test(1,2,3,4,5,6,7,8)"
   ]
  },
  {
   "cell_type": "code",
   "execution_count": 49,
   "id": "2d83c5ca-3e24-423c-a14f-cb577b24f580",
   "metadata": {},
   "outputs": [],
   "source": [
    "def test1(**kwargs):\n",
    "    return kwargs"
   ]
  },
  {
   "cell_type": "code",
   "execution_count": 53,
   "id": "7a34262c-5ea0-47a7-ae31-cca3081b8d17",
   "metadata": {},
   "outputs": [
    {
     "data": {
      "text/plain": [
       "{'key1': 'dipti'}"
      ]
     },
     "execution_count": 53,
     "metadata": {},
     "output_type": "execute_result"
    }
   ],
   "source": [
    "test1(key1=\"dipti\")"
   ]
  },
  {
   "cell_type": "raw",
   "id": "bce458e7-4401-4721-8bf2-ddaf6684c16b",
   "metadata": {},
   "source": [
    "Q3. What is an iterator in python? Name the method used to initialise the iterator object and the method used for iteration. Use these methods to print the first five elements of the given list [2,4,6,8,10,12,14,16,18,20] . "
   ]
  },
  {
   "cell_type": "raw",
   "id": "785558f4-26ab-4e68-958f-8b77f9d0db2c",
   "metadata": {},
   "source": [
    "Answer. An itertor in python helps us to go through a collection of items one by one.  "
   ]
  },
  {
   "cell_type": "code",
   "execution_count": null,
   "id": "260a959d-1856-441f-a0af-bd1d11ec9e2d",
   "metadata": {},
   "outputs": [],
   "source": []
  },
  {
   "cell_type": "code",
   "execution_count": null,
   "id": "8f314cc3-22bc-4652-9ea7-fb7b29a079d5",
   "metadata": {},
   "outputs": [],
   "source": []
  },
  {
   "cell_type": "code",
   "execution_count": null,
   "id": "87bf09a0-f2bf-472b-99a1-0228fea6e539",
   "metadata": {},
   "outputs": [],
   "source": []
  },
  {
   "cell_type": "raw",
   "id": "4b424ac0-4eab-4626-afa3-46f68a11c3f1",
   "metadata": {},
   "source": [
    "Q4. What is a generator function in python? Why yield keyword is used? Give an example of a generator function. "
   ]
  },
  {
   "cell_type": "raw",
   "id": "1569e508-3281-4cbb-ae18-445d019c24a8",
   "metadata": {},
   "source": [
    "Answer. Generator fuction allows us to create an iterator in python. keyword 'yield' is used to produce a series of values one at a timewhich can be memory efficient for larger data sets. range function is itself a generator function."
   ]
  },
  {
   "cell_type": "code",
   "execution_count": 55,
   "id": "283d682a-e761-4d0a-b60c-ff25391b0de4",
   "metadata": {},
   "outputs": [
    {
     "name": "stdout",
     "output_type": "stream",
     "text": [
      "1\n",
      "2\n",
      "3\n",
      "4\n",
      "5\n",
      "6\n",
      "7\n",
      "8\n",
      "9\n",
      "10\n"
     ]
    }
   ],
   "source": [
    "for i in range (1,11):\n",
    "    print(i)"
   ]
  },
  {
   "cell_type": "raw",
   "id": "b22420f1-e793-4cfa-b19f-3dc4c7aaa614",
   "metadata": {},
   "source": [
    "Q5. Create a generator function for prime numbers less than 1000. Use the next() method to print the first 20 prime numbers."
   ]
  },
  {
   "cell_type": "raw",
   "id": "95867b8a-e4c2-449c-8759-2126d634830f",
   "metadata": {},
   "source": [
    "Answer. "
   ]
  }
 ],
 "metadata": {
  "kernelspec": {
   "display_name": "Python 3 (ipykernel)",
   "language": "python",
   "name": "python3"
  },
  "language_info": {
   "codemirror_mode": {
    "name": "ipython",
    "version": 3
   },
   "file_extension": ".py",
   "mimetype": "text/x-python",
   "name": "python",
   "nbconvert_exporter": "python",
   "pygments_lexer": "ipython3",
   "version": "3.10.8"
  }
 },
 "nbformat": 4,
 "nbformat_minor": 5
}
