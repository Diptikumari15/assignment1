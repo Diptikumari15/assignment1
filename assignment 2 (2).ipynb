{
 "cells": [
  {
   "cell_type": "raw",
   "id": "ac9363af-ede8-4a70-be56-ba65aba18768",
   "metadata": {},
   "source": [
    "Q1. How do you comment code in python? what are the different types of comments?"
   ]
  },
  {
   "cell_type": "raw",
   "id": "441917ff-f773-489d-8b29-5fb3bc4bc132",
   "metadata": {},
   "source": [
    "Amswer. by using '#' symbol , we can comment code in python. There are basically two types of comments in python\n",
    "        (a) single line comment\n",
    "        (b) multi line comments"
   ]
  },
  {
   "cell_type": "raw",
   "id": "053e2958-92db-4642-bd44-a51c2564b029",
   "metadata": {},
   "source": [
    "Q2. What are variables in python? How do you declare and assign values to variables?"
   ]
  },
  {
   "cell_type": "raw",
   "id": "fc684844-3f8f-487b-8884-f0c5877acb70",
   "metadata": {},
   "source": [
    "Amswer.In Python, Variables are used to store and manage data. You declare a variable by choosing a name and then use use the assignment operator(=) to assign a value to it."
   ]
  },
  {
   "cell_type": "raw",
   "id": "1bebd21a-19d4-454d-9bc1-aea32cbf4032",
   "metadata": {},
   "source": [
    "Q3. How do you convert one data type to another in python?"
   ]
  },
  {
   "cell_type": "raw",
   "id": "cd340580-420f-4456-8a76-35236cb58f77",
   "metadata": {},
   "source": [
    "Answer. By changing their type and this is known as typecasting\n",
    "       for example:"
   ]
  },
  {
   "cell_type": "code",
   "execution_count": 1,
   "id": "58c24663-b743-4d78-8fd1-3afc5b860c51",
   "metadata": {},
   "outputs": [
    {
     "data": {
      "text/plain": [
       "int"
      ]
     },
     "execution_count": 1,
     "metadata": {},
     "output_type": "execute_result"
    }
   ],
   "source": [
    "a = 12\n",
    "type(a)"
   ]
  },
  {
   "cell_type": "code",
   "execution_count": 4,
   "id": "046b49cb-4d8c-4a61-828e-e21ed46aa4c7",
   "metadata": {},
   "outputs": [
    {
     "data": {
      "text/plain": [
       "'12'"
      ]
     },
     "execution_count": 4,
     "metadata": {},
     "output_type": "execute_result"
    }
   ],
   "source": [
    "str(a)\n"
   ]
  },
  {
   "cell_type": "raw",
   "id": "dc85e2e5-a53d-4815-877e-7c92ff8a25af",
   "metadata": {},
   "source": [
    "Q4. How do you write and execute a Python script from the command line?"
   ]
  },
  {
   "cell_type": "code",
   "execution_count": null,
   "id": "5d8d7c12-56b6-4bb4-b7e2-3bfa7414bf34",
   "metadata": {},
   "outputs": [],
   "source": [
    "Answer."
   ]
  },
  {
   "cell_type": "raw",
   "id": "013224d0-215d-428f-a392-e9d2293f455e",
   "metadata": {},
   "source": [
    "Q5. Given a list my_list = [1, 2, 3, 4, 5], write the code to slice the list and obtain the sub-list[2,3]."
   ]
  },
  {
   "cell_type": "code",
   "execution_count": null,
   "id": "4747a1a4-d98e-4a76-93d5-594d4760a6c8",
   "metadata": {},
   "outputs": [],
   "source": [
    "Answer. "
   ]
  },
  {
   "cell_type": "code",
   "execution_count": 3,
   "id": "a5b67e30-cd47-4922-9e04-30ddf5d03891",
   "metadata": {},
   "outputs": [],
   "source": [
    "my_list=[1,2,3,4,5]"
   ]
  },
  {
   "cell_type": "code",
   "execution_count": 5,
   "id": "73108243-fee9-461f-9b20-5bf98dfd80d2",
   "metadata": {},
   "outputs": [
    {
     "data": {
      "text/plain": [
       "[2, 3]"
      ]
     },
     "execution_count": 5,
     "metadata": {},
     "output_type": "execute_result"
    }
   ],
   "source": [
    "my_list[1:-2]"
   ]
  },
  {
   "cell_type": "raw",
   "id": "2aeca5ca-58d2-47c4-b12e-96598fe6adf9",
   "metadata": {},
   "source": [
    "Q6. What is a complex number in mathematics, and how is it represented in Python?"
   ]
  },
  {
   "cell_type": "raw",
   "id": "eabf2f5c-60d9-4091-8667-9c7d25fa76bc",
   "metadata": {},
   "source": [
    "Answer. In mathematics , a complex number is a combination of real number and an imaginary number. for example 25+7i,\n",
    "the  notation of complex number in mathematics is i.\n",
    "the notation of complex number in python is j and the complex number is represented in python as 25+7j."
   ]
  },
  {
   "cell_type": "raw",
   "id": "d608d45e-a7a7-41b2-a32c-b54bc0df994c",
   "metadata": {},
   "source": [
    "Q7. What is a correct way to declare a variable named ago and assign the value 25 to it?"
   ]
  },
  {
   "cell_type": "code",
   "execution_count": null,
   "id": "d1e54f9a-4d56-4f61-b07c-8bf0969a8795",
   "metadata": {},
   "outputs": [],
   "source": [
    "Answer.ago=25"
   ]
  },
  {
   "cell_type": "raw",
   "id": "de03d0e0-bee6-4faa-a1b4-a567ceaf59f6",
   "metadata": {},
   "source": [
    "Q8. Declare a variable named price and assign the value 9.99 to it. What data type does this variable belong to?"
   ]
  },
  {
   "cell_type": "code",
   "execution_count": null,
   "id": "7931f438-c2aa-4e5c-9e54-2966d1e6e3b2",
   "metadata": {},
   "outputs": [],
   "source": [
    "Answer."
   ]
  },
  {
   "cell_type": "code",
   "execution_count": 5,
   "id": "dc24ab1c-d56c-42c8-84f3-54e7511766c9",
   "metadata": {},
   "outputs": [
    {
     "data": {
      "text/plain": [
       "float"
      ]
     },
     "execution_count": 5,
     "metadata": {},
     "output_type": "execute_result"
    }
   ],
   "source": [
    "price = 9.99\n",
    "type(price)"
   ]
  },
  {
   "cell_type": "raw",
   "id": "9464bdcc-dce7-47f9-95ec-8e9d37682f26",
   "metadata": {},
   "source": [
    "Q9. Create a variable named name and assign your full name to it as a string. How would you print the value of this variable?"
   ]
  },
  {
   "cell_type": "code",
   "execution_count": null,
   "id": "959284c6-8291-4181-b336-587b912cab1d",
   "metadata": {},
   "outputs": [],
   "source": [
    "Answer."
   ]
  },
  {
   "cell_type": "code",
   "execution_count": 7,
   "id": "7442a001-e06f-4135-929f-86f80d222096",
   "metadata": {},
   "outputs": [
    {
     "name": "stdout",
     "output_type": "stream",
     "text": [
      "Dipti kumari\n"
     ]
    }
   ],
   "source": [
    "name = \"Dipti kumari\"\n",
    "print(name)"
   ]
  },
  {
   "cell_type": "raw",
   "id": "c48e1e51-197e-47b4-a21a-5e6294ef36c7",
   "metadata": {},
   "source": [
    "Q10. Given the string \"Hello World\" ,extract the substring \"World\"."
   ]
  },
  {
   "cell_type": "code",
   "execution_count": null,
   "id": "0b5813ab-4107-403f-87fd-e9c43ae1f158",
   "metadata": {},
   "outputs": [],
   "source": [
    "Amswer. "
   ]
  },
  {
   "cell_type": "code",
   "execution_count": 6,
   "id": "b48ec5f9-8262-4d86-84d4-24a6ada7b278",
   "metadata": {},
   "outputs": [],
   "source": [
    "str1= \"Hello World\""
   ]
  },
  {
   "cell_type": "code",
   "execution_count": 7,
   "id": "7d79621f-8cb9-49b4-8378-dd573b3e8249",
   "metadata": {},
   "outputs": [
    {
     "data": {
      "text/plain": [
       "' World'"
      ]
     },
     "execution_count": 7,
     "metadata": {},
     "output_type": "execute_result"
    }
   ],
   "source": [
    "str1[5:]"
   ]
  },
  {
   "cell_type": "raw",
   "id": "b543e505-d990-4f8a-94de-b38f67fcf98d",
   "metadata": {},
   "source": [
    "Q11. Create a variable named \"is_student\" and assign it a boolean value indicating whether you are currently a student or not. "
   ]
  },
  {
   "cell_type": "code",
   "execution_count": null,
   "id": "f9ff3030-926e-4fbd-b5dd-7fec79e7ee82",
   "metadata": {},
   "outputs": [],
   "source": [
    "Answer."
   ]
  },
  {
   "cell_type": "code",
   "execution_count": 12,
   "id": "4e458d07-b56b-459c-90ea-f853c09f1a5a",
   "metadata": {},
   "outputs": [],
   "source": [
    "is_student=True"
   ]
  },
  {
   "cell_type": "markdown",
   "id": "f38c0cf0-6fe0-4a5b-9b6b-680062d0445b",
   "metadata": {},
   "source": []
  }
 ],
 "metadata": {
  "kernelspec": {
   "display_name": "Python 3 (ipykernel)",
   "language": "python",
   "name": "python3"
  },
  "language_info": {
   "codemirror_mode": {
    "name": "ipython",
    "version": 3
   },
   "file_extension": ".py",
   "mimetype": "text/x-python",
   "name": "python",
   "nbconvert_exporter": "python",
   "pygments_lexer": "ipython3",
   "version": "3.10.8"
  }
 },
 "nbformat": 4,
 "nbformat_minor": 5
}
