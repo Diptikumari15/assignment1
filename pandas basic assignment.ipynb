{
 "cells": [
  {
   "cell_type": "code",
   "execution_count": null,
   "id": "bc25e043-1a15-4165-9f16-f9c68d423493",
   "metadata": {},
   "outputs": [],
   "source": [
    "Q1. Create a Pandas Series that contains the following data: 4, 8, 15, 16, 23, and 42. \n",
    "Then, print the series."
   ]
  },
  {
   "cell_type": "code",
   "execution_count": null,
   "id": "f5225d80-c873-4931-8dc9-78bf8daf247f",
   "metadata": {},
   "outputs": [],
   "source": [
    "Answer."
   ]
  },
  {
   "cell_type": "code",
   "execution_count": 16,
   "id": "dfc67140-885b-4a61-ae9a-dae1d31200fd",
   "metadata": {},
   "outputs": [],
   "source": [
    "import pandas as pd\n",
    "\n",
    "data = [4, 8, 15, 16, 23, 42]\n",
    "df1 = pd.Series(data)"
   ]
  },
  {
   "cell_type": "code",
   "execution_count": 17,
   "id": "edb93e44-732d-4a2a-be9a-f26c8a7930aa",
   "metadata": {},
   "outputs": [
    {
     "name": "stdout",
     "output_type": "stream",
     "text": [
      "0     4\n",
      "1     8\n",
      "2    15\n",
      "3    16\n",
      "4    23\n",
      "5    42\n",
      "dtype: int64\n"
     ]
    }
   ],
   "source": [
    "print(df1)"
   ]
  },
  {
   "cell_type": "code",
   "execution_count": null,
   "id": "b32f1c9b-9166-4384-ae31-adad89806fc4",
   "metadata": {},
   "outputs": [],
   "source": [
    "Q2. Create a variable of list type containing 10 elements in it, and apply pandas.Series\n",
    "function on the\n",
    "variable print it."
   ]
  },
  {
   "cell_type": "code",
   "execution_count": null,
   "id": "6a474e26-c4a6-4abd-b87e-49ae5d5d72f6",
   "metadata": {},
   "outputs": [],
   "source": [
    "Answer."
   ]
  },
  {
   "cell_type": "code",
   "execution_count": 18,
   "id": "63ba2e91-66dc-4b0f-b3bf-88d66fa5ac8c",
   "metadata": {},
   "outputs": [],
   "source": [
    "my_list = [1, 2, 3, 4, 5, 6, 7, 8, 9, 10]\n",
    "df1 = pd.Series(my_list)"
   ]
  },
  {
   "cell_type": "code",
   "execution_count": 19,
   "id": "328b774f-8ee7-4b3b-aa49-be8d9ba0b01b",
   "metadata": {},
   "outputs": [
    {
     "name": "stdout",
     "output_type": "stream",
     "text": [
      "0     1\n",
      "1     2\n",
      "2     3\n",
      "3     4\n",
      "4     5\n",
      "5     6\n",
      "6     7\n",
      "7     8\n",
      "8     9\n",
      "9    10\n",
      "dtype: int64\n"
     ]
    }
   ],
   "source": [
    "print(df1)"
   ]
  },
  {
   "cell_type": "code",
   "execution_count": null,
   "id": "ac373377-bfe5-4aec-9510-034a3bfb2679",
   "metadata": {},
   "outputs": [],
   "source": [
    "Q3. Create a Pandas DataFrame that contains the following data:\n",
    "Name      \n",
    "Alice\n",
    "Bob\n",
    "Claire\n",
    "\n",
    "Age\n",
    "25\n",
    "30\n",
    "27\n",
    "\n",
    "Gender\n",
    "Female\n",
    "Male\n",
    "Female\n",
    "\n",
    "Then, print the DataFrame."
   ]
  },
  {
   "cell_type": "code",
   "execution_count": null,
   "id": "01fe1841-732e-488f-862e-ba55d7ac9ccc",
   "metadata": {},
   "outputs": [],
   "source": [
    "answer."
   ]
  },
  {
   "cell_type": "code",
   "execution_count": 20,
   "id": "560cf1eb-58c4-4926-b45a-fef4321b285d",
   "metadata": {},
   "outputs": [],
   "source": [
    "data = {\n",
    "    'Name': ['Alice', 'Bob', 'Claire'],\n",
    "    'Age': [25, 30, 27],\n",
    "    'Gender': ['Female', 'Male', 'Female']\n",
    "}\n",
    "df3 = pd.DataFrame(data)"
   ]
  },
  {
   "cell_type": "code",
   "execution_count": 21,
   "id": "8d8c25df-5b14-4f86-8639-a01b3e333602",
   "metadata": {},
   "outputs": [
    {
     "name": "stdout",
     "output_type": "stream",
     "text": [
      "     Name  Age  Gender\n",
      "0   Alice   25  Female\n",
      "1     Bob   30    Male\n",
      "2  Claire   27  Female\n"
     ]
    }
   ],
   "source": [
    "print(df3)"
   ]
  },
  {
   "cell_type": "code",
   "execution_count": null,
   "id": "d40eb245-9a21-43c5-af34-fbba8376a4e0",
   "metadata": {},
   "outputs": [],
   "source": [
    "Q4. What is ‘DataFrame’ in pandas and how is it different from pandas.series? \n",
    "Explain with an example."
   ]
  },
  {
   "cell_type": "code",
   "execution_count": null,
   "id": "feffb2b1-ec20-4c11-9c71-d47df8582ea3",
   "metadata": {},
   "outputs": [],
   "source": [
    "answer"
   ]
  },
  {
   "cell_type": "code",
   "execution_count": null,
   "id": "cff1e5db-1e9f-4e7e-8124-9aeffee33d0c",
   "metadata": {},
   "outputs": [],
   "source": [
    "In pandas, a \"DataFrame\" is a two-dimensional, tabular data structure with labeled\n",
    "axes (rows and columns).You can think of it like a spreadsheet or SQL table where \n",
    "data is organized in rows and columns.\n",
    "\n",
    "A Series, on the other hand, is a one-dimensional labeled array. It can be thought \n",
    "of as a single column in a DataFrame. A DataFrame is essentially a collection of \n",
    "Series where each Series represents a column."
   ]
  },
  {
   "cell_type": "code",
   "execution_count": 22,
   "id": "5f41dafc-6f6a-4be5-9bdc-ad0f4a156df0",
   "metadata": {},
   "outputs": [],
   "source": [
    "#for example: \n",
    "Age = [25, 30, 27]\n",
    "series = pd.Series(Age)\n",
    "\n",
    "data1 = {\n",
    "    'Name': ['Alice', 'Bob', 'Claire'],\n",
    "    'Age': [25, 30, 27],\n",
    "    'Gender': ['Female', 'Male', 'Female']\n",
    "}\n",
    "data_frame= pd.DataFrame(data)"
   ]
  },
  {
   "cell_type": "code",
   "execution_count": 23,
   "id": "21b58f7e-f61f-486b-8831-e42090ecf374",
   "metadata": {},
   "outputs": [
    {
     "name": "stdout",
     "output_type": "stream",
     "text": [
      "series:\n",
      "0    25\n",
      "1    30\n",
      "2    27\n",
      "dtype: int64\n",
      "<class 'pandas.core.series.Series'>\n",
      "data_frame:\n",
      "     Name  Age  Gender\n",
      "0   Alice   25  Female\n",
      "1     Bob   30    Male\n",
      "2  Claire   27  Female\n",
      "<class 'pandas.core.frame.DataFrame'>\n"
     ]
    }
   ],
   "source": [
    "print(\"series:\")\n",
    "print(series)\n",
    "print(type(series))\n",
    "\n",
    "print(\"data_frame:\")\n",
    "print(data_frame)\n",
    "print(type(data_frame))"
   ]
  },
  {
   "cell_type": "code",
   "execution_count": null,
   "id": "1481c499-612e-4416-aa46-e5a99a526311",
   "metadata": {},
   "outputs": [],
   "source": [
    "Q5. What are some common functions you can use to manipulate data in a Pandas DataFrame? \n",
    "Can you give an example of when you might use one of these functions?"
   ]
  },
  {
   "cell_type": "code",
   "execution_count": null,
   "id": "e9b0f93a-98a8-417a-b7f7-b64b5859ada1",
   "metadata": {},
   "outputs": [],
   "source": [
    "answer"
   ]
  },
  {
   "cell_type": "code",
   "execution_count": null,
   "id": "a4ab089d-9514-48e3-9b6b-d151143a2cdf",
   "metadata": {},
   "outputs": [],
   "source": [
    "The common functions are:\n",
    "1.head() and tail():\n",
    "head(n) returns the first n rows of the DataFrame.\n",
    "tail(n) returns the last n rows of the DataFrame.\n",
    "\n",
    "2. df.columns\n",
    "   to get the columns of data frame\n",
    "    \n",
    "3. df.['column1']\n",
    "   to get all the data of the particular column \n",
    "\n",
    "4. df.[['column1', 'column2', 'column3']]\n",
    "   to get all the data of the multiple columns\n",
    "    \n",
    "5. df.dtype\n",
    "   to get the data types of the columns\n",
    "    \n",
    "6. info():\n",
    "   info() provides a concise summary of the DataFrame, including data types \n",
    "   and missing values.\n",
    "    \n",
    "7. drop():\n",
    "   drop() is used to remove rows or columns from a DataFrame.   \n",
    "\n",
    "8. fillna():\n",
    "   fillna() is used to fill missing values in the DataFrame.\n",
    "\n",
    "9. drop_duplicates():\n",
    "   drop_duplicates() is used to remove duplicate rows from the DataFrame.\n",
    "\n",
    "10. describe():\n",
    "    describe() provides summary statistics of numeric columns."
   ]
  },
  {
   "cell_type": "code",
   "execution_count": 24,
   "id": "9b08ed18-baa7-4c02-9ca5-62d230a2def5",
   "metadata": {},
   "outputs": [],
   "source": [
    "# for example:\n",
    "df1 = pd.read_csv(\"https://raw.githubusercontent.com/datasciencedojo/datasets/master/titanic.csv\")\n"
   ]
  },
  {
   "cell_type": "code",
   "execution_count": 25,
   "id": "937758ca-e787-40d3-9512-f02af6059304",
   "metadata": {},
   "outputs": [
    {
     "data": {
      "text/plain": [
       "Index(['PassengerId', 'Survived', 'Pclass', 'Name', 'Sex', 'Age', 'SibSp',\n",
       "       'Parch', 'Ticket', 'Fare', 'Cabin', 'Embarked'],\n",
       "      dtype='object')"
      ]
     },
     "execution_count": 25,
     "metadata": {},
     "output_type": "execute_result"
    }
   ],
   "source": [
    "df1.columns"
   ]
  },
  {
   "cell_type": "code",
   "execution_count": 26,
   "id": "e5ba9df1-1b71-445e-aedd-ef5bf8404fff",
   "metadata": {},
   "outputs": [
    {
     "data": {
      "text/plain": [
       "0        1\n",
       "1        2\n",
       "2        3\n",
       "3        4\n",
       "4        5\n",
       "      ... \n",
       "886    887\n",
       "887    888\n",
       "888    889\n",
       "889    890\n",
       "890    891\n",
       "Name: PassengerId, Length: 891, dtype: int64"
      ]
     },
     "execution_count": 26,
     "metadata": {},
     "output_type": "execute_result"
    }
   ],
   "source": [
    "df1[\"PassengerId\"]"
   ]
  },
  {
   "cell_type": "code",
   "execution_count": null,
   "id": "dd1b68ec-c53b-45f9-a487-0bda245bd35b",
   "metadata": {},
   "outputs": [],
   "source": [
    "Q6. Which of the following is mutable in nature Series, DataFrame, Panel?"
   ]
  },
  {
   "cell_type": "code",
   "execution_count": null,
   "id": "0a8be1e8-28b8-4961-8196-23214eefc9ed",
   "metadata": {},
   "outputs": [],
   "source": [
    "Answer. Series is mutable. You can modify the values of a Series after it\n",
    "        has been created.\n",
    "        DataFrame is also mutable. You can add, remove, or modify columns,\n",
    "        as well as change the values within the DataFrame."
   ]
  },
  {
   "cell_type": "code",
   "execution_count": null,
   "id": "ad788fc4-8d80-4cfa-9239-15ea610ec390",
   "metadata": {},
   "outputs": [],
   "source": [
    "Q7. Create a DataFrame using multiple Series. Explain with an example."
   ]
  },
  {
   "cell_type": "code",
   "execution_count": null,
   "id": "9576d8dd-d591-4d8e-bd6c-378c0036b37a",
   "metadata": {},
   "outputs": [],
   "source": [
    "answer."
   ]
  },
  {
   "cell_type": "code",
   "execution_count": null,
   "id": "a02e60a0-f3ea-4ad9-9586-7a175885fa3f",
   "metadata": {},
   "outputs": [],
   "source": [
    "You can create a DataFrame using multiple Series by passing a dictionary where the keys\n",
    "are the column names and the values are the corresponding Series.\n",
    "Here's an example:"
   ]
  },
  {
   "cell_type": "code",
   "execution_count": 27,
   "id": "c6731561-eaa7-4017-bd58-fae32d13d9e8",
   "metadata": {},
   "outputs": [
    {
     "name": "stdout",
     "output_type": "stream",
     "text": [
      "     Name  Age  Gender\n",
      "0   Alice   25  Female\n",
      "1     Bob   30    Male\n",
      "2  Claire   27  Female\n"
     ]
    }
   ],
   "source": [
    "import pandas as pd\n",
    "\n",
    "# Create multiple Pandas Series\n",
    "names = pd.Series(['Alice', 'Bob', 'Claire'])\n",
    "ages = pd.Series([25, 30, 27])\n",
    "genders = pd.Series(['Female', 'Male', 'Female'])\n",
    "\n",
    "# Create a DataFrame using the Series\n",
    "df = pd.DataFrame({\n",
    "    'Name': names,\n",
    "    'Age': ages,\n",
    "    'Gender': genders\n",
    "})\n",
    "\n",
    "# Print the DataFrame\n",
    "print(df)"
   ]
  }
 ],
 "metadata": {
  "kernelspec": {
   "display_name": "Python 3 (ipykernel)",
   "language": "python",
   "name": "python3"
  },
  "language_info": {
   "codemirror_mode": {
    "name": "ipython",
    "version": 3
   },
   "file_extension": ".py",
   "mimetype": "text/x-python",
   "name": "python",
   "nbconvert_exporter": "python",
   "pygments_lexer": "ipython3",
   "version": "3.10.8"
  }
 },
 "nbformat": 4,
 "nbformat_minor": 5
}
