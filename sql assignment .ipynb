{
 "cells": [
  {
   "cell_type": "markdown",
   "id": "191e5bf7-efb8-4da2-b238-8c6b71e99e1b",
   "metadata": {},
   "source": [
    "# MySQL ASSIGNHMENT "
   ]
  },
  {
   "cell_type": "code",
   "execution_count": null,
   "id": "9e420784-dacf-41d3-b328-3abb48fc8fad",
   "metadata": {},
   "outputs": [],
   "source": [
    "Q1. What is a database? Differentiate between SQL and NoSQL databases."
   ]
  },
  {
   "cell_type": "code",
   "execution_count": null,
   "id": "aa7cc8f0-c045-4373-b117-622a1d4863c0",
   "metadata": {},
   "outputs": [],
   "source": [
    "answer. Database is a format of data in a format that can be easily digitally accessed.\n",
    "        A software which used to manage our database is called Data Base Management System.\n",
    "       \n",
    "        SQL : SQL stands for Structured Query Language.\n",
    "              SQl databases are relational type of datases.\n",
    "              In SQL data is stored in tabular format.\n",
    "              These databases have fixed or static or predefined schema.\n",
    "              It does'nt perform good with huge volumes of data.\n",
    "              Applications such as MySQL, SQL server, Oracle, etc are used to work for\n",
    "              SQL databases.  \n",
    "            \n",
    "      NOSQl : NOSQL stands for Not Only SQl.\n",
    "              NOSQl databases are Non-relational type of datases.\n",
    "              In NOSQL data is stored either key-value pair, document-based or wide-column\n",
    "              stores format.\n",
    "              These databases have dynamic schema.\n",
    "              It  works easily with huge volumes of data.\n",
    "              Applications such as MongoDB, Cassandra, Hbase etc are used to work for\n",
    "              NOSQL databases."
   ]
  },
  {
   "cell_type": "code",
   "execution_count": null,
   "id": "342ad900-108c-4b66-bb59-539afc43cffa",
   "metadata": {},
   "outputs": [],
   "source": [
    "Q2. What is DDL? Explain why CREATE, DROP, ALTER, and TRUNCATE are used with an example."
   ]
  },
  {
   "cell_type": "code",
   "execution_count": null,
   "id": "52da8ba5-e8b8-47b9-b880-edd02242cdda",
   "metadata": {},
   "outputs": [],
   "source": [
    "answer. DDL stands for Data Definition Language, and it is a subset of SQL (Structured Query\n",
    "        Language) used to define and manage the structure of a database. DDL statements are\n",
    "        responsible for defining, modifying, and deleting database objects such as tables,\n",
    "        indexes, and constraints. The main DDL statements include CREATE, DROP, ALTER, and TRUNCATE.\n",
    "        \n",
    "       1. CREATE:\n",
    "          The CREATE statement is used to create a new database object, such as a table, index, or view.\n",
    "          Example: \n",
    "          Creating a new table named \"employees\" with columns for employee ID, name, and salary.\n",
    "        \n",
    "          CREATE TABLE employees (\n",
    "          emp_id INT PRIMARY KEY,\n",
    "          emp_name VARCHAR(50),\n",
    "          emp_salary DECIMAL(10, 2)\n",
    "           );\n",
    "            \n",
    "        2. DROP:\n",
    "           The DROP statement is used to delete a database object, such as a table or index.\n",
    "           It permanently removes the specified object and its data from the database.\n",
    "           Example: \n",
    "           Dropping the \"employees\" table.  \n",
    "        \n",
    "            DROP TABLE employees;\n",
    "         \n",
    "        3. ALTER:\n",
    "           The ALTER statement is used to modify the structure of an existing database object,\n",
    "           such as adding or removing columns from a table.\n",
    "           Example:\n",
    "           Adding a new column \"emp_department\" to the \"employees\" table.\n",
    "            \n",
    "           ALTER TABLE employees\n",
    "           ADD COLUMN emp_department VARCHAR(50);\n",
    "            \n",
    "         4. TRUNCATE:\n",
    "            The TRUNCATE statement in SQL is used to quickly delete all the rows from a table,\n",
    "            but it keeps the table structure for future use. It is a faster operation than \n",
    "            using the DELETE statement to remove all rows, especially when dealing with large datasets.\n",
    "            \n",
    "            Example:\n",
    "            Truncating the \"employees\" table.\n",
    "            \n",
    "            TRUNCATE TABLE employees;"
   ]
  },
  {
   "cell_type": "code",
   "execution_count": null,
   "id": "5dd5cc7d-9dd1-4ebb-bf2f-e4196e6664df",
   "metadata": {},
   "outputs": [],
   "source": [
    "Q3. What is DML? Explain INSERT, UPDATE, and DELETE with an example."
   ]
  },
  {
   "cell_type": "code",
   "execution_count": null,
   "id": "270eae6d-ed58-464f-a0cd-1eb09b68f44d",
   "metadata": {},
   "outputs": [],
   "source": [
    "answer. DML stands for Data Manipulation Language, and it is a subset of SQL (Structured Query Language)\n",
    "        used to manage data stored in a database. DML consists of three main statements: INSERT, UPDATE,\n",
    "        and DELETE.\n",
    "        \n",
    "       1. INSERT:\n",
    "          The INSERT statement is used to add new rows of data to a table. \n",
    "          Example:\n",
    "          Inserting a new employee into the \"employees\" table.\n",
    "        \n",
    "        INSERT INTO employees (emp_id, emp_name, emp_salary, emp_department)\n",
    "        VALUES (1, 'John Doe', 50000, 'IT');\n",
    "        \n",
    "       2. UPDATE:\n",
    "          The UPDATE statement is used to modify existing data in a table.\n",
    "          Example:\n",
    "          Updating the salary of an employee in the \"employees\" table. \n",
    "        \n",
    "        UPDATE employees\n",
    "        SET emp_salary = 55000\n",
    "        WHERE emp_id = 1;\n",
    "        \n",
    "       3. DELETE:\n",
    "          The DELETE statement is used to remove one or more rows from a table.\n",
    "          Example:\n",
    "          Deleting an employee from the \"employees\" table.\n",
    "        \n",
    "        DELETE FROM employees\n",
    "        WHERE emp_id = 1;\n",
    " "
   ]
  },
  {
   "cell_type": "code",
   "execution_count": null,
   "id": "fabf2f29-ca72-4899-a205-ce56c5773fc4",
   "metadata": {},
   "outputs": [],
   "source": [
    "Q4. What is DQL? Explain SELECT with an example."
   ]
  },
  {
   "cell_type": "code",
   "execution_count": null,
   "id": "11a679de-8170-4523-9bb8-d583d7e5899d",
   "metadata": {},
   "outputs": [],
   "source": [
    "answer. DQL stands for Data Query Language, and it is a subset of SQL (Structured Query\n",
    "        Language) used for querying and retrieving data from a database. The primary \n",
    "        statement in DQL is SELECT, which is used to specify the columns to be retrieved\n",
    "        and the conditions for selecting data.\n",
    "        \n",
    "        SELECT:\n",
    "        The SELECT statement is used to retrieve data from one or more tables in a database.\n",
    "        Example:\n",
    "        Retrieving the names of all employees from the \"employees\" table.\n",
    "        \n",
    "        SELECT emp_name\n",
    "        FROM employees;"
   ]
  },
  {
   "cell_type": "code",
   "execution_count": null,
   "id": "1dac4f49-b309-4997-a1af-9408a2c5d8dc",
   "metadata": {},
   "outputs": [],
   "source": [
    "Q5. Explain Primary Key and Foreign Key."
   ]
  },
  {
   "cell_type": "code",
   "execution_count": null,
   "id": "fc9e8200-bce9-402d-820e-53e0f58e8831",
   "metadata": {},
   "outputs": [],
   "source": [
    "answer. \n",
    "     1. PRIMARY KEY:\n",
    "        A Primary Key is a unique column we set in a table to easily identify and \n",
    "        locate data in queries.\n",
    "        A table can have only one primary key, which should be unique and NOT NULL.\n",
    "        \n",
    "     2. FOREIGN KEY:\n",
    "        A Foreign Key is a column used to link two or more tables together.\n",
    "        A table can have any number of foreign keys, can contain duplicate and NULL values"
   ]
  },
  {
   "cell_type": "code",
   "execution_count": null,
   "id": "f33f9e2c-ebce-4455-87ae-0027aee9854d",
   "metadata": {},
   "outputs": [],
   "source": [
    "Q6. Write a python code to connect MySQL to python. Explain the cursor() and execute() method."
   ]
  },
  {
   "cell_type": "code",
   "execution_count": null,
   "id": "650698fa-0401-48b2-a0c5-1bb3b569f9dc",
   "metadata": {},
   "outputs": [],
   "source": [
    "answer.The python code to connect MySQL to python is:\n",
    "       \n",
    "        import mysql.connector\n",
    "        mydb = mysql.connector.connect(\n",
    "        host=\"localhost\",\n",
    "        user=\"abc\",\n",
    "        password=\"password\"\n",
    "        )\n",
    "        print(mydb)\n",
    "        mycursor = mydb.cursor()\n",
    "        mycursor.execute(\"operation\")\n",
    "        mydb.close()\n",
    "        \n",
    "        \n",
    "        cursor() method:\n",
    "        The cursor() method is called on the database connection object (connection).\n",
    "        It returns a new cursor object, which is used to interact with the MySQL database.\n",
    "        The cursor is a pointer that points to a location in the result set of a query.\n",
    "        It allows you to traverse and manipulate the rows returned by a query.\n",
    "\n",
    "        execute() method:\n",
    "        The execute() method is called on the cursor object.\n",
    "        It is used to execute SQL queries or commands.\n",
    "       \n",
    "            "
   ]
  },
  {
   "cell_type": "code",
   "execution_count": null,
   "id": "bcf6deb8-6708-410c-9f08-83b182283933",
   "metadata": {},
   "outputs": [],
   "source": [
    "Q7. Give the order of execution of SQL clauses in an SQL query."
   ]
  },
  {
   "cell_type": "code",
   "execution_count": null,
   "id": "37ccf3e5-5088-446a-92cd-b8effedd6326",
   "metadata": {},
   "outputs": [],
   "source": [
    "answer. SELECT column(s)\n",
    "        FROM table_name\n",
    "        WHERE conditiob\n",
    "        GROUP BY column(s)\n",
    "        HAVING condition\n",
    "        ORDER BY column(s) ASC/DESC"
   ]
  }
 ],
 "metadata": {
  "kernelspec": {
   "display_name": "Python 3 (ipykernel)",
   "language": "python",
   "name": "python3"
  },
  "language_info": {
   "codemirror_mode": {
    "name": "ipython",
    "version": 3
   },
   "file_extension": ".py",
   "mimetype": "text/x-python",
   "name": "python",
   "nbconvert_exporter": "python",
   "pygments_lexer": "ipython3",
   "version": "3.10.8"
  }
 },
 "nbformat": 4,
 "nbformat_minor": 5
}
