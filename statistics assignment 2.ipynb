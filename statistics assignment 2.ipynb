{
 "cells": [
  {
   "cell_type": "raw",
   "id": "73f2edad-9374-4fe1-adbf-1b45b3423b73",
   "metadata": {},
   "source": [
    "Q1. What are the three measures of central tendency? "
   ]
  },
  {
   "cell_type": "raw",
   "id": "7162360a-aef7-4d46-89b3-6923c9394b11",
   "metadata": {},
   "source": [
    "Answer. Mean, Median, Mode"
   ]
  },
  {
   "cell_type": "raw",
   "id": "f61ba68d-e1f9-4981-9eb7-07453343e656",
   "metadata": {},
   "source": [
    "Q2. What is the difference between the mean, median, ,mode? How are they used to measure     the central tendency of a dataset? "
   ]
  },
  {
   "cell_type": "raw",
   "id": "b006650e-b924-4de7-8a61-2ade0dac7c94",
   "metadata": {},
   "source": [
    "Answer. Mean :\n",
    "The mean provides the average or typical value in the dataset. It's appropriate for data with a symmetric distribution and no extreme outliers.\n",
    "\n",
    "Median:\n",
    "It represents the central value that divides the data into two equal halves.\n",
    "\n",
    "Mode:\n",
    "It identifies the most common category or value.\n"
   ]
  },
  {
   "cell_type": "raw",
   "id": "dc2625e7-d625-45d5-bd7d-460ddbdc15c8",
   "metadata": {},
   "source": [
    "Q3. Measure the three measures of central tendency for th given height data:\n",
    "    [178,177,176,177,178.2,178,175,179,180,175,178.9,176.2,177,172.5,178,176.5]"
   ]
  },
  {
   "cell_type": "code",
   "execution_count": 1,
   "id": "01c91a66-a471-4571-8c12-cdca3f9d0f37",
   "metadata": {},
   "outputs": [],
   "source": [
    "s = [178,177,176,177,178.2,178,175,179,180,175,178.9,176.2,177,172.5,178,176.5]"
   ]
  },
  {
   "cell_type": "code",
   "execution_count": 6,
   "id": "a82a6413-6c26-4e2b-968a-75f238d1af89",
   "metadata": {},
   "outputs": [
    {
     "data": {
      "text/plain": [
       "177.01875"
      ]
     },
     "execution_count": 6,
     "metadata": {},
     "output_type": "execute_result"
    }
   ],
   "source": [
    "import numpy as np\n",
    "np.mean(s)\n"
   ]
  },
  {
   "cell_type": "code",
   "execution_count": 7,
   "id": "1cb21745-6d9a-4fd1-a0ce-c64a91178ac9",
   "metadata": {},
   "outputs": [
    {
     "data": {
      "text/plain": [
       "177.0"
      ]
     },
     "execution_count": 7,
     "metadata": {},
     "output_type": "execute_result"
    }
   ],
   "source": [
    "np.median(s)"
   ]
  },
  {
   "cell_type": "code",
   "execution_count": 15,
   "id": "a5e8bb6f-ebc2-40fb-b105-27e48eefe4ab",
   "metadata": {},
   "outputs": [
    {
     "name": "stderr",
     "output_type": "stream",
     "text": [
      "/tmp/ipykernel_2135/3151479742.py:2: FutureWarning: Unlike other reduction functions (e.g. `skew`, `kurtosis`), the default behavior of `mode` typically preserves the axis it acts along. In SciPy 1.11.0, this behavior will change: the default value of `keepdims` will become False, the `axis` over which the statistic is taken will be eliminated, and the value None will no longer be accepted. Set `keepdims` to True or False to avoid this warning.\n",
      "  stats.mode(s)\n"
     ]
    },
    {
     "data": {
      "text/plain": [
       "ModeResult(mode=array([177.]), count=array([3]))"
      ]
     },
     "execution_count": 15,
     "metadata": {},
     "output_type": "execute_result"
    }
   ],
   "source": [
    "from scipy import stats\n",
    "stats.mode(s)"
   ]
  },
  {
   "cell_type": "raw",
   "id": "36f994ea-d4f2-44e4-bd0b-4d32b21c26a3",
   "metadata": {},
   "source": [
    "Q4. Find the standard deviation for the given data:\n",
    "    [178,177,176,177,178.2,178,175,179,180,175,178.9,176.2,177,172.5,178,176.5]"
   ]
  },
  {
   "cell_type": "code",
   "execution_count": 16,
   "id": "09be920c-5913-4679-9515-eafe397e5ed8",
   "metadata": {},
   "outputs": [],
   "source": [
    "sd = [[178,177,176,177,178.2,178,175,179,180,175,178.9,176.2,177,172.5,178,176.5]]"
   ]
  },
  {
   "cell_type": "code",
   "execution_count": 17,
   "id": "c6a0669d-e3f9-4379-b9b5-e80833fac2ee",
   "metadata": {},
   "outputs": [
    {
     "data": {
      "text/plain": [
       "1.7885814036548633"
      ]
     },
     "execution_count": 17,
     "metadata": {},
     "output_type": "execute_result"
    }
   ],
   "source": [
    "import numpy as np\n",
    "np.std(sd)"
   ]
  },
  {
   "cell_type": "raw",
   "id": "f079a3d6-63ee-4dc5-93dc-30b9460797a0",
   "metadata": {},
   "source": [
    "Q5. How are measures of despersion such as range, variable, and standrd deviation used to describe  the spread of a dataset? Provide an example."
   ]
  },
  {
   "cell_type": "raw",
   "id": "18671162-dea4-4f17-ad51-f7fd95d30f88",
   "metadata": {},
   "source": [
    "Answer. Measures of dispersion, including range, variance, and standard deviation, are           used to describe the spread or variability of a dataset.\n",
    "        \n",
    "        Range:\n",
    "        It's the difference between the maximum and minimum values in a dataset.\n",
    "\n",
    "        Variance:\n",
    "        Variance measures how data points deviate from the mean.\n",
    "        \n",
    "        Standard Deviation:\n",
    "        The standard deviation is the square root of the variance. It measures the               average amount by which data points deviate from the mean.\n",
    "        \n",
    "        Suppose you are analyzing the daily sales of two stores, Store A and Store B,             over a month. Here are the total daily sales figures for both stores:\n",
    "\n",
    "        Store A: [1000, 1100, 950, 1050, 1025, 1125, 975]\n",
    "        Store B: [850, 950, 900, 1050, 925, 1150, 1100]\n",
    "        \n",
    "        Range: \n",
    "\n",
    "        Range for Store A: 1125 - 950 = 175\n",
    "        Range for Store B: 1150 - 850 = 300\n",
    "        Interpretation: Store B has a wider range of daily sales, indicating more                 variability compared to Store A.\n",
    "        \n",
    "        Variance:\n",
    "\n",
    "        Variance for Store A: 8167\n",
    "        Variance for Store B: 8908\n",
    "        Interpretation: Store B has a slightly higher variance, suggesting slightly more         variability in daily sales compared to Store A.\n",
    "        \n",
    "        Standard Deviation:\n",
    "\n",
    "        Standard Deviation for Store A: 90.36\n",
    "        Standard Deviation for Store B: 94.49\n",
    "        Interpretation: Store B has a slightly higher standard deviation, indicating             slightly more dispersion in daily sales compared to Store A.\n",
    "\n",
    "\n",
    "\n",
    "        "
   ]
  },
  {
   "cell_type": "raw",
   "id": "7db287c3-73d1-41cb-93a1-54d9a0132f55",
   "metadata": {},
   "source": [
    "Q6. What is a vein diagram?"
   ]
  },
  {
   "cell_type": "raw",
   "id": "edbbae6f-730f-4f71-a194-a8aa3a93963e",
   "metadata": {},
   "source": [
    "Answer. A Venn diagram is a visual representation used to show the relationship between           sets"
   ]
  },
  {
   "cell_type": "raw",
   "id": "49608c38-1e8f-4f01-8654-9140cde40fed",
   "metadata": {},
   "source": [
    "Q7. For the two given sets A = (2,3,4,5,6,7) & b = (0,2,6,8,10). Find:\n",
    " (i) A B\n",
    " (ii) A U B"
   ]
  },
  {
   "cell_type": "raw",
   "id": "82a915a5-2cff-407b-85c2-29848cb4a737",
   "metadata": {},
   "source": [
    "Answer. (i) (2)\n",
    "        (ii) (0,2,3,4,5,6,7,8,10)"
   ]
  },
  {
   "cell_type": "raw",
   "id": "0dd5832e-162e-42d5-a751-187532c45c3b",
   "metadata": {},
   "source": [
    "Q8. What do you understand about skewness in data?"
   ]
  },
  {
   "cell_type": "raw",
   "id": "03ccb213-a2e3-46ab-8a9d-02e81f1902a9",
   "metadata": {},
   "source": [
    "Answer.  Skewness in data tells us if the numbers in a group are bunched up on one side            or spread out evenly.\n",
    "        types of skewness:\n",
    "        Negatively skewed is when most of the numbers are on the right side.\n",
    "        Positively skewed is when most of the numbers are on the left side.\n",
    "        Symmetrical is when the numbers are evenly spread on both sides of the middle. "
   ]
  },
  {
   "cell_type": "raw",
   "id": "b1efab0c-5d38-4cae-a33c-fb383e3e5c52",
   "metadata": {},
   "source": [
    "Q9. If a data is right skewed then what will be the position of median with respect to       mean?"
   ]
  },
  {
   "cell_type": "raw",
   "id": "a46f2933-3e2d-4bb4-977d-8067788af3eb",
   "metadata": {},
   "source": [
    "Answer.  If a data is right skewed then the median will be more than the mean. "
   ]
  },
  {
   "cell_type": "raw",
   "id": "1ad57caf-4a3e-4d90-ab13-912cd35241e6",
   "metadata": {},
   "source": [
    "Q10. Explain the difference between covariance and correlation. How are these measures        used in statistical analysis?"
   ]
  },
  {
   "cell_type": "raw",
   "id": "17c59d92-163f-4e03-82f1-88d54be0fbce",
   "metadata": {},
   "source": [
    "Answer. Covariance measures the degree to which two variables change together, and               Correlation  measure how two things are connected or related.  \n",
    "        In statistical analysis, \n",
    "        Covariance helps us see if when one thing goes up, the other tends to go up too,         and if one thing goes down, the other goes down too. \n",
    "\n",
    "        Correlation shows if there's a connection but also tells us how strong and in             which direction (positive or negative) that connection is. It's like a more               detailed way to see how closely two things are linked.\n",
    "\n",
    "\n",
    "        "
   ]
  },
  {
   "cell_type": "raw",
   "id": "829ec401-8157-4785-83a8-d9e07b9e6fe9",
   "metadata": {},
   "source": [
    "Q11. What is the formula for calculating the sample mean? Provide an example calculation      for a dataset."
   ]
  },
  {
   "cell_type": "raw",
   "id": "a12ac005-8886-4c57-9594-b5bd666561c2",
   "metadata": {},
   "source": [
    "Answer. To find the sample mean of a set of data, you sum up all the values in the sample         and then divide that sum by the number of data points (observations) in the               sample.           \n",
    "        Here's the formula:\n",
    "\n",
    "         Sample Mean (x̄) = (Sum of all data values) / (Number of data values)\n",
    "         \n",
    "         for example:- age of 5 people is 12,13,14,21,24, to find the average mean of age                         \n",
    "         \n",
    "         "
   ]
  },
  {
   "cell_type": "code",
   "execution_count": 13,
   "id": "1a9629d9-97cd-4438-8c73-daa07ad409b3",
   "metadata": {},
   "outputs": [],
   "source": [
    "age = (12,13,14,21,24)"
   ]
  },
  {
   "cell_type": "code",
   "execution_count": 10,
   "id": "48420b00-10ab-4aba-b2b8-722823d98834",
   "metadata": {},
   "outputs": [
    {
     "data": {
      "text/plain": [
       "16.8"
      ]
     },
     "execution_count": 10,
     "metadata": {},
     "output_type": "execute_result"
    }
   ],
   "source": [
    "(12+13+14+21+24)/5"
   ]
  },
  {
   "cell_type": "code",
   "execution_count": 15,
   "id": "914d8c66-890e-423f-83f2-ba294d2038cc",
   "metadata": {},
   "outputs": [
    {
     "data": {
      "text/plain": [
       "16.8"
      ]
     },
     "execution_count": 15,
     "metadata": {},
     "output_type": "execute_result"
    }
   ],
   "source": [
    "# we can do it  by another method\n",
    "import numpy as np\n",
    "np.mean(age)"
   ]
  },
  {
   "cell_type": "raw",
   "id": "cc3b38f1-5b17-4525-b9d2-658da607f8e9",
   "metadata": {},
   "source": [
    "Q12. For a normal distribution data what is the relationship between its measure of            central tendency?"
   ]
  },
  {
   "cell_type": "raw",
   "id": "cb672dc5-2d96-4362-9463-6b801e1d123a",
   "metadata": {},
   "source": [
    "Answer. For a normal distribution data  the relationship between its measure of                   central tendency which are mean, medianand mode all are perfectly at the centre."
   ]
  },
  {
   "cell_type": "raw",
   "id": "077088e9-d2c0-4399-8b3e-3cba14b7914d",
   "metadata": {},
   "source": [
    "Q13. How is covariance different from correlation?"
   ]
  },
  {
   "cell_type": "raw",
   "id": "08a676d2-0ce8-477d-88e7-aaae6fcf295a",
   "metadata": {},
   "source": [
    "Answer. Covariance measures the degree to which two variables change together, and               Correlation  measure how two things are connected or related.  "
   ]
  },
  {
   "cell_type": "raw",
   "id": "d9ff4f7a-0822-4e0d-98d2-92647e197998",
   "metadata": {},
   "source": [
    "Q14. How do outliers affect measures of central tendency and dispersion? Provide an            example."
   ]
  },
  {
   "cell_type": "raw",
   "id": "c6cd30cf-4622-4551-9b57-34694da0ea10",
   "metadata": {},
   "source": [
    "Answer. let's see the affect of outliers in central tendency:\n",
    "        Mean:\n",
    "        In mean, outliers change a lot in value of mean.\n",
    "        Median:\n",
    "        In median, otliers slightly change the value.\n",
    "        Mode:\n",
    "        In mode, outliers may or may not affected the value\n",
    "        \n",
    "        Dispersion:\n",
    "         Outliers can greatly influence variance and standard deviation because these              measures involve the squared differences between data points and the mean."
   ]
  },
  {
   "cell_type": "code",
   "execution_count": 2,
   "id": "32e33f9d-e540-4aa0-8d01-ccc8b571514a",
   "metadata": {},
   "outputs": [],
   "source": [
    "#Example\n",
    "##without outlier\n",
    "x=(1,1,2,2,2,3,4,5)"
   ]
  },
  {
   "cell_type": "code",
   "execution_count": 4,
   "id": "4c01b044-2c6b-4abc-8b72-e392982178cc",
   "metadata": {},
   "outputs": [
    {
     "data": {
      "text/plain": [
       "2.5"
      ]
     },
     "execution_count": 4,
     "metadata": {},
     "output_type": "execute_result"
    }
   ],
   "source": [
    "import numpy as np\n",
    "np.mean(x)"
   ]
  },
  {
   "cell_type": "code",
   "execution_count": 5,
   "id": "d7b23ed9-614d-4e1a-8009-e026a50089ea",
   "metadata": {},
   "outputs": [
    {
     "data": {
      "text/plain": [
       "2.0"
      ]
     },
     "execution_count": 5,
     "metadata": {},
     "output_type": "execute_result"
    }
   ],
   "source": [
    "np.median(x)"
   ]
  },
  {
   "cell_type": "code",
   "execution_count": 8,
   "id": "186352a3-e2cb-470d-b040-ec6dd2b97842",
   "metadata": {},
   "outputs": [
    {
     "name": "stderr",
     "output_type": "stream",
     "text": [
      "/tmp/ipykernel_98/3269743869.py:2: FutureWarning: Unlike other reduction functions (e.g. `skew`, `kurtosis`), the default behavior of `mode` typically preserves the axis it acts along. In SciPy 1.11.0, this behavior will change: the default value of `keepdims` will become False, the `axis` over which the statistic is taken will be eliminated, and the value None will no longer be accepted. Set `keepdims` to True or False to avoid this warning.\n",
      "  stats.mode(x)\n"
     ]
    },
    {
     "data": {
      "text/plain": [
       "ModeResult(mode=array([2]), count=array([3]))"
      ]
     },
     "execution_count": 8,
     "metadata": {},
     "output_type": "execute_result"
    }
   ],
   "source": [
    "from scipy import stats\n",
    "stats.mode(x)"
   ]
  },
  {
   "cell_type": "code",
   "execution_count": 9,
   "id": "bc07e29c-94a8-4995-b163-ab2332313ceb",
   "metadata": {},
   "outputs": [
    {
     "data": {
      "text/plain": [
       "1.75"
      ]
     },
     "execution_count": 9,
     "metadata": {},
     "output_type": "execute_result"
    }
   ],
   "source": [
    "np.var(x)"
   ]
  },
  {
   "cell_type": "code",
   "execution_count": 10,
   "id": "2bed84b6-e767-4fba-88b3-c0f9d46aba97",
   "metadata": {},
   "outputs": [
    {
     "data": {
      "text/plain": [
       "1.3228756555322954"
      ]
     },
     "execution_count": 10,
     "metadata": {},
     "output_type": "execute_result"
    }
   ],
   "source": [
    "np.std(x)"
   ]
  },
  {
   "cell_type": "code",
   "execution_count": 11,
   "id": "9919a928-ef98-4234-b1f6-bf6ace775784",
   "metadata": {},
   "outputs": [],
   "source": [
    "#with outlier\n",
    "y= (1,1,2,2,2,3,4,5,100)"
   ]
  },
  {
   "cell_type": "code",
   "execution_count": 12,
   "id": "27d63528-05ec-4f0b-a5d6-38af2336fc4a",
   "metadata": {},
   "outputs": [
    {
     "data": {
      "text/plain": [
       "13.333333333333334"
      ]
     },
     "execution_count": 12,
     "metadata": {},
     "output_type": "execute_result"
    }
   ],
   "source": [
    "np.mean(y)"
   ]
  },
  {
   "cell_type": "code",
   "execution_count": 13,
   "id": "df20bf22-1be0-403d-bcda-b1df551fa5e6",
   "metadata": {},
   "outputs": [
    {
     "data": {
      "text/plain": [
       "2.0"
      ]
     },
     "execution_count": 13,
     "metadata": {},
     "output_type": "execute_result"
    }
   ],
   "source": [
    "np.median(y)"
   ]
  },
  {
   "cell_type": "code",
   "execution_count": 14,
   "id": "9c94a21b-7e8f-400b-b107-4c3c08d2e4a0",
   "metadata": {},
   "outputs": [
    {
     "name": "stderr",
     "output_type": "stream",
     "text": [
      "/tmp/ipykernel_98/3461317453.py:1: FutureWarning: Unlike other reduction functions (e.g. `skew`, `kurtosis`), the default behavior of `mode` typically preserves the axis it acts along. In SciPy 1.11.0, this behavior will change: the default value of `keepdims` will become False, the `axis` over which the statistic is taken will be eliminated, and the value None will no longer be accepted. Set `keepdims` to True or False to avoid this warning.\n",
      "  stats.mode(y)\n"
     ]
    },
    {
     "data": {
      "text/plain": [
       "ModeResult(mode=array([2]), count=array([3]))"
      ]
     },
     "execution_count": 14,
     "metadata": {},
     "output_type": "execute_result"
    }
   ],
   "source": [
    "stats.mode(y)"
   ]
  },
  {
   "cell_type": "code",
   "execution_count": 15,
   "id": "6c87f5ae-5e8d-4626-8df2-d2d1973b9368",
   "metadata": {},
   "outputs": [
    {
     "data": {
      "text/plain": [
       "940.4444444444447"
      ]
     },
     "execution_count": 15,
     "metadata": {},
     "output_type": "execute_result"
    }
   ],
   "source": [
    "np.var(y)"
   ]
  },
  {
   "cell_type": "code",
   "execution_count": 16,
   "id": "94e30134-40a7-40a2-8d6b-d189a0bf6542",
   "metadata": {},
   "outputs": [
    {
     "data": {
      "text/plain": [
       "30.66666666666667"
      ]
     },
     "execution_count": 16,
     "metadata": {},
     "output_type": "execute_result"
    }
   ],
   "source": [
    "np.std(y)"
   ]
  },
  {
   "cell_type": "code",
   "execution_count": null,
   "id": "79094e86-5e73-4b8b-b686-2bba5e6ae5ad",
   "metadata": {},
   "outputs": [],
   "source": []
  }
 ],
 "metadata": {
  "kernelspec": {
   "display_name": "Python 3 (ipykernel)",
   "language": "python",
   "name": "python3"
  },
  "language_info": {
   "codemirror_mode": {
    "name": "ipython",
    "version": 3
   },
   "file_extension": ".py",
   "mimetype": "text/x-python",
   "name": "python",
   "nbconvert_exporter": "python",
   "pygments_lexer": "ipython3",
   "version": "3.10.8"
  }
 },
 "nbformat": 4,
 "nbformat_minor": 5
}
