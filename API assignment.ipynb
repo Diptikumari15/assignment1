{
 "cells": [
  {
   "cell_type": "code",
   "execution_count": null,
   "id": "221cd87e-93a7-451d-9e70-8eb119b1b14a",
   "metadata": {},
   "outputs": [],
   "source": [
    "Q1. What is an API? Give an example, where an API is used in real life."
   ]
  },
  {
   "cell_type": "code",
   "execution_count": null,
   "id": "32670336-e6d6-479e-a700-5199d3f067db",
   "metadata": {},
   "outputs": [],
   "source": [
    "Answer. API stands for Application Software Interface \n",
    "        It is a set of programming code that enables two software programs to communicate.\n",
    "        API are an accessible way to extract and share data within and across organizations.\n",
    "        Thus, in simpler terms, an API helps two programs or applications to communicate with\n",
    "        each other by providing them with the neccessary tools and functions.\n",
    "        \n",
    "        for example:\n",
    "        A weather app, A weather application on your phone uses a weather API to get real-time\n",
    "        weather data.The app asks the API for weather data for a specific location.\n",
    "        The API gathers the current weather information.The API sends back the weather data to\n",
    "        the app.The app shows you the up-to-date weather information for the chosen location.\n",
    "        In essence, the API facilitates communication between the weather app and the external\n",
    "        source providing the weather data."
   ]
  },
  {
   "cell_type": "code",
   "execution_count": null,
   "id": "8f63d0cd-9313-4c7a-a754-be718caf74d3",
   "metadata": {},
   "outputs": [],
   "source": [
    "Q2. Give advantages and disadvantages of using API."
   ]
  },
  {
   "cell_type": "code",
   "execution_count": null,
   "id": "925c26d8-5a5d-4f5e-b51b-27e6660ce7de",
   "metadata": {},
   "outputs": [],
   "source": [
    "Answer. Advantages of APIs:\n",
    "\n",
    "       1. Interoperability: Enables communication between different software.\n",
    "       2. Time and Cost Efficiency: Saves development time and resources.\n",
    "       3. Innovation: Allows access to new features and data.\n",
    "       4. Scalability: Facilitates independent operation of system components.\n",
    "       5. Security: Provides controlled and secure data access.\n",
    "       6. Easier Updates: Allows updates without disrupting dependent systems.\n",
    "    \n",
    "        Disadvantages of APIs:\n",
    "\n",
    "       1. Dependency: Issues with external APIs can impact functionality.\n",
    "       2. Data Security Concerns: Transmitting data introduces security risks.\n",
    "       3. Limited Control: Developers have limited control over third-party APIs.\n",
    "       4. Reliability Issues: Downtime or changes by API providers can affect services.\n",
    "       5. Costs: High usage may incur costs, and some APIs may transition to paid models.\n",
    "       6. Versioning Challenges: Upgrading APIs may require changes to application code.\n"
   ]
  },
  {
   "cell_type": "code",
   "execution_count": null,
   "id": "fa9b2026-e6cf-43ac-a4af-3916d2deaea4",
   "metadata": {},
   "outputs": [],
   "source": [
    "Q3. What is a Web API? Differentiate between API and Web API."
   ]
  },
  {
   "cell_type": "code",
   "execution_count": null,
   "id": "0bd1b605-7482-4540-9329-b9777e58249c",
   "metadata": {},
   "outputs": [],
   "source": [
    "Answer. A Web API allows different software apps to interact with each other by sending and\n",
    "        recieves data over web .\n",
    "        The interaction is often based on the principle of REST , or less commonly, SOAP.\n",
    "        Web APIs typically uses the Hypertext Transfer Protocol(HTTP) for communication.\n",
    "        \n",
    "        Differnce between API and Web API are:\n",
    "         \n",
    "        1. Definition:\n",
    "            \n",
    "            API: An API helps two programs or applications to communicate with each other by\n",
    "                 providing them with the neccessary tools and functions.\n",
    "            \n",
    "            Web API: A Web API allows different software apps to interact with each other by sending\n",
    "                     and recieves data over web .\n",
    "                \n",
    "         2. Scope: \n",
    "            \n",
    "             API: Applies to various software domains beyond the web. \n",
    "                \n",
    "             Web API: Focuses on web development, enabling communication between web servers\n",
    "                      and clients.   \n",
    "                \n",
    "          3. Communication:\n",
    "             \n",
    "              API: Facilitates interaction and data exchange between different systems.      \n",
    "              \n",
    "              Web API: Typically uses HTTP for interaction, following REST or other web-oriented\n",
    "                       architectural styles."
   ]
  },
  {
   "cell_type": "code",
   "execution_count": null,
   "id": "ca930883-50ad-4906-8f3e-6ae567743942",
   "metadata": {},
   "outputs": [],
   "source": [
    "Q4. Explain REST and SOAP Architecture. Mention shortcomings of SOAP."
   ]
  },
  {
   "cell_type": "code",
   "execution_count": null,
   "id": "b5aecd79-4ab5-420e-9daa-c5525d91de4e",
   "metadata": {},
   "outputs": [],
   "source": [
    "Answer. Both REST and SOAP are are architectural style for designing networked \n",
    "        application. They are commonly used in context of Web API to facilitate \n",
    "        communication between systems over the internet.\n",
    "        \n",
    "        here are some key points about REST and SOAP:\n",
    "          \n",
    "        REST(Representational State Transfer):\n",
    "          1. Principles: Uses standard operations (GET, POST, PUT, DELETE) over HTTP \n",
    "                         for communication.\n",
    "          2. Stateless: Each request from a client contains all needed information; \n",
    "                        no client state is stored on the server.\n",
    "          3. Resource-Oriented: Resources, identified by URIs, are manipulated using \n",
    "                                standard HTTP methods. \n",
    "            \n",
    "        SOAP(Simple Object Access Protocol):\n",
    "          1. Protocol: Uses XML for message format and can work over various transport protocols.\n",
    "          2. Complexity: Messages are structured and may include headers, providing support \n",
    "             for complex operations.\n",
    "          3. Stateful: Can maintain state between requests if needed.\n",
    "        \n",
    "        \n",
    "        Shortcomings of SOAP:\n",
    "   \n",
    "          1. Complexity: SOAP messages are large and complex, impacting performance.\n",
    "          2. Overhead: Additional formatting and headers in SOAP can create processing and\n",
    "             bandwidth overhead.\n",
    "          3. Limited Browser Support: Less supported in web browsers compared to REST.\n",
    "          4. Flexibility: Rigid structure compared to REST, less flexible in certain scenarios.\n",
    "          5. Tooling: Tools for SOAP may be less lightweight and available compared to REST tools."
   ]
  },
  {
   "cell_type": "code",
   "execution_count": null,
   "id": "cf2d285c-ef02-431d-95c0-0d8e488169fb",
   "metadata": {},
   "outputs": [],
   "source": [
    "Q5. Differentiate between REST and SOAP."
   ]
  },
  {
   "cell_type": "code",
   "execution_count": null,
   "id": "a76ac093-0a3c-44e0-8940-591f10cac8be",
   "metadata": {},
   "outputs": [],
   "source": [
    "Answer. The difference between REST and SOAP are: \n",
    "     \n",
    "        1. Style:\n",
    "            REST: It's like talking in a simple and flexible way with a friend.\n",
    "            SOAP: It's like sending a formal letter with lots of details.\n",
    "            \n",
    "        2. Communication: \n",
    "            REST: Uses standard web protocols (like HTTP).\n",
    "            SOAP: Uses a predefined protocol (XML-based).\n",
    "            \n",
    "        3. Data Format:\n",
    "            REST: Often communicates using JSON.\n",
    "            SOAP: Typically communicates using XML.\n",
    "            \n",
    "        4. Interface: \n",
    "            REST: Follows a more straightforward and uniform structure.\n",
    "            SOAP: Can have a complex and rigid structure.\n",
    "            \n",
    "        5. State:\n",
    "            REST: Stateless, each request is independent.\n",
    "            SOAP: Can maintain state between requests.\n",
    "            \n",
    "            In essence, REST is like having a casual conversation, while SOAP is more like \n",
    "            filling out a detailed form. REST tends to be simpler, widely used on the web, and \n",
    "            suitable for many scenarios. SOAP, on the other hand, is more structured and can be \n",
    "            powerful but may be considered heavier in certain situations. The choice often depends\n",
    "            on the specific needs and preferences of the applications involved."
   ]
  }
 ],
 "metadata": {
  "kernelspec": {
   "display_name": "Python 3 (ipykernel)",
   "language": "python",
   "name": "python3"
  },
  "language_info": {
   "codemirror_mode": {
    "name": "ipython",
    "version": 3
   },
   "file_extension": ".py",
   "mimetype": "text/x-python",
   "name": "python",
   "nbconvert_exporter": "python",
   "pygments_lexer": "ipython3",
   "version": "3.10.8"
  }
 },
 "nbformat": 4,
 "nbformat_minor": 5
}
